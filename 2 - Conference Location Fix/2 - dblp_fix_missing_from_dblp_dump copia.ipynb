{
 "cells": [
  {
   "cell_type": "markdown",
   "metadata": {},
   "source": [
    "# Fix of the Missing DBLP Location Using the DBLP Dump\n",
    "\n",
    "Jupyter Notebook for web scraping of the conferences locations of the DBLP dump.\n",
    "\n",
    "For this process, the following CSV files are needed: ```out_dblp_raw_proceedings.csv``` and ```out_dblp_papers_and_locations.csv```. <br>\n",
    "The first file must be generated following the instructions cointained in the ```preprocess_dblp.ipynb``` Notebook, that is contained in the ```1 - Citation Dumps Preprocess``` folder of this Repository.<br>\n",
    "The second one must be generated running the ```1 - dblp_location_scraper.ipynb``` Notebook that is contained in this folder.\n",
    "\n",
    "In particular, the following operations are going to be executed:\n",
    "* Opening of the CSV preprocessed dump\n",
    "* Opening of the proceedings raw dump\n",
    "* Obtaining the missing locations with queries to the DBLP website\n",
    "\n",
    "Lastly, the entire preprocessed dump is going to be saved on disk in CSV format"
   ]
  },
  {
   "cell_type": "code",
   "execution_count": 1,
   "metadata": {},
   "outputs": [],
   "source": [
    "# Libraries Import\n",
    "import pandas as pd\n",
    "import spacy\n",
    "import numpy as np\n",
    "\n",
    "pd.set_option('display.max_columns', None)"
   ]
  },
  {
   "cell_type": "markdown",
   "metadata": {},
   "source": [
    "## Download of the Spacy Pipelines\n",
    "Before getting started, be sure to download the Spacy Pipelines that is needed for the NLP operations.\n",
    "\n",
    "You can do so by running the following command in a Python shell: ```python -m spacy download en_core_web_lg```"
   ]
  },
  {
   "cell_type": "markdown",
   "metadata": {},
   "source": [
    "## File Paths\n",
    "Please set your working directory paths."
   ]
  },
  {
   "cell_type": "code",
   "execution_count": 2,
   "metadata": {},
   "outputs": [],
   "source": [
    "# ******************* PATHS ********************+\n",
    "\n",
    "# Dumps Directory Path\n",
    "path_file_import = r'/Users/marcoterzulli/File/Scuola Local/Magistrale/Materiale Corsi Attuali/Tirocinio/Cartella di Lavoro/Archivi Dump di Lavoro/Import/'\n",
    "\n",
    "# CSV Exports Directory Path\n",
    "path_file_export = r'/Users/marcoterzulli/File/Scuola Local/Magistrale/Materiale Corsi Attuali/Tirocinio/Cartella di Lavoro/Archivi Dump di Lavoro/Export/'"
   ]
  },
  {
   "cell_type": "markdown",
   "metadata": {},
   "source": [
    "## Read of the CSV Preprocessed Dump"
   ]
  },
  {
   "cell_type": "code",
   "execution_count": 7,
   "metadata": {},
   "outputs": [
    {
     "data": {
      "text/html": [
       "<div>\n",
       "<style scoped>\n",
       "    .dataframe tbody tr th:only-of-type {\n",
       "        vertical-align: middle;\n",
       "    }\n",
       "\n",
       "    .dataframe tbody tr th {\n",
       "        vertical-align: top;\n",
       "    }\n",
       "\n",
       "    .dataframe thead th {\n",
       "        text-align: right;\n",
       "    }\n",
       "</style>\n",
       "<table border=\"1\" class=\"dataframe\">\n",
       "  <thead>\n",
       "    <tr style=\"text-align: right;\">\n",
       "      <th></th>\n",
       "      <th>id</th>\n",
       "      <th>crossref</th>\n",
       "      <th>ee</th>\n",
       "      <th>key</th>\n",
       "      <th>url</th>\n",
       "      <th>year</th>\n",
       "    </tr>\n",
       "  </thead>\n",
       "  <tbody>\n",
       "    <tr>\n",
       "      <th>1</th>\n",
       "      <td>3062808</td>\n",
       "      <td>conf/coopis/2000</td>\n",
       "      <td>https://doi.org/10.1007/10722620_29</td>\n",
       "      <td>conf/coopis/ChenD00</td>\n",
       "      <td>db/conf/coopis/coopis2000.html#ChenD00</td>\n",
       "      <td>2000</td>\n",
       "    </tr>\n",
       "    <tr>\n",
       "      <th>2</th>\n",
       "      <td>3062809</td>\n",
       "      <td>conf/coopis/2004-2</td>\n",
       "      <td>https://doi.org/10.1007/978-3-540-30469-2_46</td>\n",
       "      <td>conf/coopis/AbdellatifCL04</td>\n",
       "      <td>db/conf/coopis/coopis2004-2.html#AbdellatifCL04</td>\n",
       "      <td>2004</td>\n",
       "    </tr>\n",
       "    <tr>\n",
       "      <th>4</th>\n",
       "      <td>3062811</td>\n",
       "      <td>conf/coopis/2000</td>\n",
       "      <td>https://doi.org/10.1007/10722620_9</td>\n",
       "      <td>conf/coopis/PapastavrouCSP00</td>\n",
       "      <td>db/conf/coopis/coopis2000.html#PapastavrouCSP00</td>\n",
       "      <td>2000</td>\n",
       "    </tr>\n",
       "    <tr>\n",
       "      <th>5</th>\n",
       "      <td>3062812</td>\n",
       "      <td>conf/coopis/97</td>\n",
       "      <td>http://doi.ieeecomputersociety.org/10.1109/COO...</td>\n",
       "      <td>conf/coopis/BultzingsloewenKK97</td>\n",
       "      <td>db/conf/coopis/coopis97.html#BultzingsloewenKK97</td>\n",
       "      <td>1997</td>\n",
       "    </tr>\n",
       "    <tr>\n",
       "      <th>6</th>\n",
       "      <td>3062813</td>\n",
       "      <td>conf/coopis/2003</td>\n",
       "      <td>https://doi.org/10.1007/978-3-540-39964-3_50</td>\n",
       "      <td>conf/coopis/GiacolettoA03</td>\n",
       "      <td>db/conf/coopis/coopis2003.html#GiacolettoA03</td>\n",
       "      <td>2003</td>\n",
       "    </tr>\n",
       "    <tr>\n",
       "      <th>...</th>\n",
       "      <td>...</td>\n",
       "      <td>...</td>\n",
       "      <td>...</td>\n",
       "      <td>...</td>\n",
       "      <td>...</td>\n",
       "      <td>...</td>\n",
       "    </tr>\n",
       "    <tr>\n",
       "      <th>2990257</th>\n",
       "      <td>8958667</td>\n",
       "      <td>series/sapere/2013-5</td>\n",
       "      <td>https://doi.org/10.1007/978-3-642-31674-6_9</td>\n",
       "      <td>series/sapere/Besold13</td>\n",
       "      <td>db/series/sapere/sapere5.html#Besold13</td>\n",
       "      <td>2011</td>\n",
       "    </tr>\n",
       "    <tr>\n",
       "      <th>2990258</th>\n",
       "      <td>8958671</td>\n",
       "      <td>series/sapere/2013-5</td>\n",
       "      <td>https://doi.org/10.1007/978-3-642-31674-6_20</td>\n",
       "      <td>series/sapere/Steiner13</td>\n",
       "      <td>db/series/sapere/sapere5.html#Steiner13</td>\n",
       "      <td>2011</td>\n",
       "    </tr>\n",
       "    <tr>\n",
       "      <th>2990259</th>\n",
       "      <td>8958672</td>\n",
       "      <td>series/sapere/2013-5</td>\n",
       "      <td>https://doi.org/10.1007/978-3-642-31674-6_25</td>\n",
       "      <td>series/sapere/Armstrong13</td>\n",
       "      <td>db/series/sapere/sapere5.html#Armstrong13</td>\n",
       "      <td>2011</td>\n",
       "    </tr>\n",
       "    <tr>\n",
       "      <th>2990260</th>\n",
       "      <td>8958682</td>\n",
       "      <td>series/sapere/2013-5</td>\n",
       "      <td>https://doi.org/10.1007/978-3-642-31674-6_12</td>\n",
       "      <td>series/sapere/Freed13</td>\n",
       "      <td>db/series/sapere/sapere5.html#Freed13</td>\n",
       "      <td>2011</td>\n",
       "    </tr>\n",
       "    <tr>\n",
       "      <th>2990261</th>\n",
       "      <td>8958686</td>\n",
       "      <td>series/sapere/2013-5</td>\n",
       "      <td>https://doi.org/10.1007/978-3-642-31674-6_3</td>\n",
       "      <td>series/sapere/Bokulich13</td>\n",
       "      <td>db/series/sapere/sapere5.html#Bokulich13</td>\n",
       "      <td>2011</td>\n",
       "    </tr>\n",
       "  </tbody>\n",
       "</table>\n",
       "<p>2481952 rows × 6 columns</p>\n",
       "</div>"
      ],
      "text/plain": [
       "              id              crossref  \\\n",
       "1        3062808      conf/coopis/2000   \n",
       "2        3062809    conf/coopis/2004-2   \n",
       "4        3062811      conf/coopis/2000   \n",
       "5        3062812        conf/coopis/97   \n",
       "6        3062813      conf/coopis/2003   \n",
       "...          ...                   ...   \n",
       "2990257  8958667  series/sapere/2013-5   \n",
       "2990258  8958671  series/sapere/2013-5   \n",
       "2990259  8958672  series/sapere/2013-5   \n",
       "2990260  8958682  series/sapere/2013-5   \n",
       "2990261  8958686  series/sapere/2013-5   \n",
       "\n",
       "                                                        ee  \\\n",
       "1                      https://doi.org/10.1007/10722620_29   \n",
       "2             https://doi.org/10.1007/978-3-540-30469-2_46   \n",
       "4                       https://doi.org/10.1007/10722620_9   \n",
       "5        http://doi.ieeecomputersociety.org/10.1109/COO...   \n",
       "6             https://doi.org/10.1007/978-3-540-39964-3_50   \n",
       "...                                                    ...   \n",
       "2990257        https://doi.org/10.1007/978-3-642-31674-6_9   \n",
       "2990258       https://doi.org/10.1007/978-3-642-31674-6_20   \n",
       "2990259       https://doi.org/10.1007/978-3-642-31674-6_25   \n",
       "2990260       https://doi.org/10.1007/978-3-642-31674-6_12   \n",
       "2990261        https://doi.org/10.1007/978-3-642-31674-6_3   \n",
       "\n",
       "                                     key  \\\n",
       "1                    conf/coopis/ChenD00   \n",
       "2             conf/coopis/AbdellatifCL04   \n",
       "4           conf/coopis/PapastavrouCSP00   \n",
       "5        conf/coopis/BultzingsloewenKK97   \n",
       "6              conf/coopis/GiacolettoA03   \n",
       "...                                  ...   \n",
       "2990257           series/sapere/Besold13   \n",
       "2990258          series/sapere/Steiner13   \n",
       "2990259        series/sapere/Armstrong13   \n",
       "2990260            series/sapere/Freed13   \n",
       "2990261         series/sapere/Bokulich13   \n",
       "\n",
       "                                                      url  year  \n",
       "1                  db/conf/coopis/coopis2000.html#ChenD00  2000  \n",
       "2         db/conf/coopis/coopis2004-2.html#AbdellatifCL04  2004  \n",
       "4         db/conf/coopis/coopis2000.html#PapastavrouCSP00  2000  \n",
       "5        db/conf/coopis/coopis97.html#BultzingsloewenKK97  1997  \n",
       "6            db/conf/coopis/coopis2003.html#GiacolettoA03  2003  \n",
       "...                                                   ...   ...  \n",
       "2990257            db/series/sapere/sapere5.html#Besold13  2011  \n",
       "2990258           db/series/sapere/sapere5.html#Steiner13  2011  \n",
       "2990259         db/series/sapere/sapere5.html#Armstrong13  2011  \n",
       "2990260             db/series/sapere/sapere5.html#Freed13  2011  \n",
       "2990261          db/series/sapere/sapere5.html#Bokulich13  2011  \n",
       "\n",
       "[2481952 rows x 6 columns]"
      ]
     },
     "execution_count": 7,
     "metadata": {},
     "output_type": "execute_result"
    }
   ],
   "source": [
    "df_dblp = pd.read_csv(path_file_export + 'out_dblp_papers.csv', low_memory=False, index_col=[0])\n",
    "df_dblp"
   ]
  },
  {
   "cell_type": "markdown",
   "metadata": {},
   "source": [
    "## Read of the Proceedings CSV"
   ]
  },
  {
   "cell_type": "code",
   "execution_count": null,
   "metadata": {},
   "outputs": [],
   "source": [
    "df_dblp_proceedings = pd.read_csv(path_file_import + 'out_dblp_raw_proceedings.csv', low_memory=False, sep=\";\")\n",
    "df_dblp_proceedings"
   ]
  },
  {
   "cell_type": "markdown",
   "metadata": {},
   "source": [
    "Here the main useless columns are going to be removed from the dataframe."
   ]
  },
  {
   "cell_type": "code",
   "execution_count": null,
   "metadata": {},
   "outputs": [],
   "source": [
    "df_dblp_proceedings = df_dblp_proceedings.drop(columns=['address', 'author', 'booktitle', 'cite', 'cite-label', 'editor', 'editor-orcid', 'ee-type', 'i', 'isbn', 'isbn-type', 'journal', 'mdate', 'note', 'note-type', 'number', 'pages', 'publisher', 'publisher-href', 'publtype', 'school', 'sub', 'sup', 'volume', 'year'])\n",
    "df_dblp_proceedings.loc[0:3]"
   ]
  },
  {
   "cell_type": "markdown",
   "metadata": {},
   "source": [
    "## Fix of the Conferences URL Format\n",
    "The most of the papers have their URLs in the following formats:\n",
    "* ```/db/conf/CONF_NAME/CONF_NAME+YEAR.html#PAPER_IDENTIFIER```\n",
    "* ```/db/series/SERIES_NAME/SERIES_NAME+YEAR.html#PAPER_IDENTIFIER```\n",
    "\n",
    "The final part of the URL that follows '.html' is totally useless for our purpose.\n",
    "\n",
    "We must filter it, so we'll be able to filter the duplicated URLs to speed up our queries."
   ]
  },
  {
   "cell_type": "code",
   "execution_count": 8,
   "metadata": {},
   "outputs": [
    {
     "data": {
      "text/html": [
       "<div>\n",
       "<style scoped>\n",
       "    .dataframe tbody tr th:only-of-type {\n",
       "        vertical-align: middle;\n",
       "    }\n",
       "\n",
       "    .dataframe tbody tr th {\n",
       "        vertical-align: top;\n",
       "    }\n",
       "\n",
       "    .dataframe thead th {\n",
       "        text-align: right;\n",
       "    }\n",
       "</style>\n",
       "<table border=\"1\" class=\"dataframe\">\n",
       "  <thead>\n",
       "    <tr style=\"text-align: right;\">\n",
       "      <th></th>\n",
       "      <th>id</th>\n",
       "      <th>crossref</th>\n",
       "      <th>ee</th>\n",
       "      <th>key</th>\n",
       "      <th>url</th>\n",
       "      <th>year</th>\n",
       "    </tr>\n",
       "  </thead>\n",
       "  <tbody>\n",
       "    <tr>\n",
       "      <th>1</th>\n",
       "      <td>3062808</td>\n",
       "      <td>conf/coopis/2000</td>\n",
       "      <td>https://doi.org/10.1007/10722620_29</td>\n",
       "      <td>conf/coopis/ChenD00</td>\n",
       "      <td>db/conf/coopis/coopis2000.html</td>\n",
       "      <td>2000</td>\n",
       "    </tr>\n",
       "    <tr>\n",
       "      <th>2</th>\n",
       "      <td>3062809</td>\n",
       "      <td>conf/coopis/2004-2</td>\n",
       "      <td>https://doi.org/10.1007/978-3-540-30469-2_46</td>\n",
       "      <td>conf/coopis/AbdellatifCL04</td>\n",
       "      <td>db/conf/coopis/coopis2004-2.html</td>\n",
       "      <td>2004</td>\n",
       "    </tr>\n",
       "    <tr>\n",
       "      <th>4</th>\n",
       "      <td>3062811</td>\n",
       "      <td>conf/coopis/2000</td>\n",
       "      <td>https://doi.org/10.1007/10722620_9</td>\n",
       "      <td>conf/coopis/PapastavrouCSP00</td>\n",
       "      <td>db/conf/coopis/coopis2000.html</td>\n",
       "      <td>2000</td>\n",
       "    </tr>\n",
       "    <tr>\n",
       "      <th>5</th>\n",
       "      <td>3062812</td>\n",
       "      <td>conf/coopis/97</td>\n",
       "      <td>http://doi.ieeecomputersociety.org/10.1109/COO...</td>\n",
       "      <td>conf/coopis/BultzingsloewenKK97</td>\n",
       "      <td>db/conf/coopis/coopis97.html</td>\n",
       "      <td>1997</td>\n",
       "    </tr>\n",
       "    <tr>\n",
       "      <th>6</th>\n",
       "      <td>3062813</td>\n",
       "      <td>conf/coopis/2003</td>\n",
       "      <td>https://doi.org/10.1007/978-3-540-39964-3_50</td>\n",
       "      <td>conf/coopis/GiacolettoA03</td>\n",
       "      <td>db/conf/coopis/coopis2003.html</td>\n",
       "      <td>2003</td>\n",
       "    </tr>\n",
       "    <tr>\n",
       "      <th>...</th>\n",
       "      <td>...</td>\n",
       "      <td>...</td>\n",
       "      <td>...</td>\n",
       "      <td>...</td>\n",
       "      <td>...</td>\n",
       "      <td>...</td>\n",
       "    </tr>\n",
       "    <tr>\n",
       "      <th>2990257</th>\n",
       "      <td>8958667</td>\n",
       "      <td>series/sapere/2013-5</td>\n",
       "      <td>https://doi.org/10.1007/978-3-642-31674-6_9</td>\n",
       "      <td>series/sapere/Besold13</td>\n",
       "      <td>db/series/sapere/sapere5.html</td>\n",
       "      <td>2011</td>\n",
       "    </tr>\n",
       "    <tr>\n",
       "      <th>2990258</th>\n",
       "      <td>8958671</td>\n",
       "      <td>series/sapere/2013-5</td>\n",
       "      <td>https://doi.org/10.1007/978-3-642-31674-6_20</td>\n",
       "      <td>series/sapere/Steiner13</td>\n",
       "      <td>db/series/sapere/sapere5.html</td>\n",
       "      <td>2011</td>\n",
       "    </tr>\n",
       "    <tr>\n",
       "      <th>2990259</th>\n",
       "      <td>8958672</td>\n",
       "      <td>series/sapere/2013-5</td>\n",
       "      <td>https://doi.org/10.1007/978-3-642-31674-6_25</td>\n",
       "      <td>series/sapere/Armstrong13</td>\n",
       "      <td>db/series/sapere/sapere5.html</td>\n",
       "      <td>2011</td>\n",
       "    </tr>\n",
       "    <tr>\n",
       "      <th>2990260</th>\n",
       "      <td>8958682</td>\n",
       "      <td>series/sapere/2013-5</td>\n",
       "      <td>https://doi.org/10.1007/978-3-642-31674-6_12</td>\n",
       "      <td>series/sapere/Freed13</td>\n",
       "      <td>db/series/sapere/sapere5.html</td>\n",
       "      <td>2011</td>\n",
       "    </tr>\n",
       "    <tr>\n",
       "      <th>2990261</th>\n",
       "      <td>8958686</td>\n",
       "      <td>series/sapere/2013-5</td>\n",
       "      <td>https://doi.org/10.1007/978-3-642-31674-6_3</td>\n",
       "      <td>series/sapere/Bokulich13</td>\n",
       "      <td>db/series/sapere/sapere5.html</td>\n",
       "      <td>2011</td>\n",
       "    </tr>\n",
       "  </tbody>\n",
       "</table>\n",
       "<p>2481952 rows × 6 columns</p>\n",
       "</div>"
      ],
      "text/plain": [
       "              id              crossref  \\\n",
       "1        3062808      conf/coopis/2000   \n",
       "2        3062809    conf/coopis/2004-2   \n",
       "4        3062811      conf/coopis/2000   \n",
       "5        3062812        conf/coopis/97   \n",
       "6        3062813      conf/coopis/2003   \n",
       "...          ...                   ...   \n",
       "2990257  8958667  series/sapere/2013-5   \n",
       "2990258  8958671  series/sapere/2013-5   \n",
       "2990259  8958672  series/sapere/2013-5   \n",
       "2990260  8958682  series/sapere/2013-5   \n",
       "2990261  8958686  series/sapere/2013-5   \n",
       "\n",
       "                                                        ee  \\\n",
       "1                      https://doi.org/10.1007/10722620_29   \n",
       "2             https://doi.org/10.1007/978-3-540-30469-2_46   \n",
       "4                       https://doi.org/10.1007/10722620_9   \n",
       "5        http://doi.ieeecomputersociety.org/10.1109/COO...   \n",
       "6             https://doi.org/10.1007/978-3-540-39964-3_50   \n",
       "...                                                    ...   \n",
       "2990257        https://doi.org/10.1007/978-3-642-31674-6_9   \n",
       "2990258       https://doi.org/10.1007/978-3-642-31674-6_20   \n",
       "2990259       https://doi.org/10.1007/978-3-642-31674-6_25   \n",
       "2990260       https://doi.org/10.1007/978-3-642-31674-6_12   \n",
       "2990261        https://doi.org/10.1007/978-3-642-31674-6_3   \n",
       "\n",
       "                                     key                               url  \\\n",
       "1                    conf/coopis/ChenD00    db/conf/coopis/coopis2000.html   \n",
       "2             conf/coopis/AbdellatifCL04  db/conf/coopis/coopis2004-2.html   \n",
       "4           conf/coopis/PapastavrouCSP00    db/conf/coopis/coopis2000.html   \n",
       "5        conf/coopis/BultzingsloewenKK97      db/conf/coopis/coopis97.html   \n",
       "6              conf/coopis/GiacolettoA03    db/conf/coopis/coopis2003.html   \n",
       "...                                  ...                               ...   \n",
       "2990257           series/sapere/Besold13     db/series/sapere/sapere5.html   \n",
       "2990258          series/sapere/Steiner13     db/series/sapere/sapere5.html   \n",
       "2990259        series/sapere/Armstrong13     db/series/sapere/sapere5.html   \n",
       "2990260            series/sapere/Freed13     db/series/sapere/sapere5.html   \n",
       "2990261         series/sapere/Bokulich13     db/series/sapere/sapere5.html   \n",
       "\n",
       "         year  \n",
       "1        2000  \n",
       "2        2004  \n",
       "4        2000  \n",
       "5        1997  \n",
       "6        2003  \n",
       "...       ...  \n",
       "2990257  2011  \n",
       "2990258  2011  \n",
       "2990259  2011  \n",
       "2990260  2011  \n",
       "2990261  2011  \n",
       "\n",
       "[2481952 rows x 6 columns]"
      ]
     },
     "execution_count": 8,
     "metadata": {},
     "output_type": "execute_result"
    }
   ],
   "source": [
    "df_dblp.url = df_dblp.url.str.split('#').str[0]\n",
    "df_dblp"
   ]
  },
  {
   "cell_type": "markdown",
   "metadata": {},
   "source": [
    "## Extraction of the Conference Location from the Proceeding Title\n",
    "\n",
    "Adding the location column to the proceedings dataframe:"
   ]
  },
  {
   "cell_type": "code",
   "execution_count": null,
   "metadata": {},
   "outputs": [],
   "source": [
    "df_dblp_proceedings['ConferenceLocation'] = np.nan\n",
    "df_dblp['ConferenceLocation'] = np.nan"
   ]
  },
  {
   "cell_type": "markdown",
   "metadata": {},
   "source": [
    "Make sure the indexes are in pair with number of rows"
   ]
  },
  {
   "cell_type": "code",
   "execution_count": null,
   "metadata": {},
   "outputs": [],
   "source": [
    "df_dblp_proceedings = df_dblp_proceedings.reset_index()"
   ]
  },
  {
   "cell_type": "markdown",
   "metadata": {},
   "source": [
    "Extraction of the locations using Spacy:"
   ]
  },
  {
   "cell_type": "code",
   "execution_count": null,
   "metadata": {},
   "outputs": [],
   "source": [
    "nlp = spacy.load(\"en_core_web_lg\")\n",
    "\n",
    "for index, row in df_dblp_proceedings.iterrows():\n",
    "    doc = nlp(row['title'])\n",
    "\n",
    "    conf_location = \"\"\n",
    "    for ent in doc.ents:\n",
    "        if ent.label_ == \"GPE\":\n",
    "            if conf_location.__len__() != 0:\n",
    "                conf_location += \", \"\n",
    "            conf_location += ent.text\n",
    "        \n",
    "        #print(ent.text, ent.label_) # TODO DEBUG\n",
    "\n",
    "    if conf_location.__len__() == 0: # no location found\n",
    "        conf_location = np.nan\n",
    "    \n",
    "    df_dblp_proceedings.at[index, 'ConferenceLocation'] = conf_location\n",
    "\n",
    "    #print(f\"{row['title']} --- Extracted Location: {conf_location}\\n\\n\") # TODO DEBUG"
   ]
  },
  {
   "cell_type": "markdown",
   "metadata": {},
   "source": [
    "Count of how many proceedings locations that are still missing:"
   ]
  },
  {
   "cell_type": "code",
   "execution_count": null,
   "metadata": {},
   "outputs": [],
   "source": [
    "n_missing = len(df_dblp_proceedings.index) - len(df_dblp_proceedings.dropna(subset = ['ConferenceLocation']).index)\n",
    "print(f\"{n_missing} missing paper's conference locations\")"
   ]
  },
  {
   "cell_type": "markdown",
   "metadata": {},
   "source": [
    "## Join of the New Location Data with the Original Dataframe"
   ]
  },
  {
   "cell_type": "markdown",
   "metadata": {},
   "source": [
    "Here the rest of the useless columns are going to be removed from the dataframe."
   ]
  },
  {
   "cell_type": "code",
   "execution_count": null,
   "metadata": {},
   "outputs": [],
   "source": [
    "df_dblp_proceedings = df_dblp_proceedings.drop(columns=['id', 'key', 'series', 'series-href', 'title', 'ee'])\n",
    "df_dblp_proceedings.loc[0:3]"
   ]
  },
  {
   "cell_type": "markdown",
   "metadata": {},
   "source": [
    "Filtering the Proceedings without the location:"
   ]
  },
  {
   "cell_type": "code",
   "execution_count": null,
   "metadata": {},
   "outputs": [],
   "source": [
    "df_dblp_proceedings = df_dblp_proceedings.dropna(subset = ['ConferenceLocation'])\n",
    "df_dblp_proceedings = df_dblp_proceedings.drop(columns=['index'])\n",
    "df_dblp_proceedings"
   ]
  },
  {
   "cell_type": "markdown",
   "metadata": {},
   "source": [
    "Merge with the original dblp with locations dataframe"
   ]
  },
  {
   "cell_type": "code",
   "execution_count": 10,
   "metadata": {},
   "outputs": [
    {
     "data": {
      "text/html": [
       "<div>\n",
       "<style scoped>\n",
       "    .dataframe tbody tr th:only-of-type {\n",
       "        vertical-align: middle;\n",
       "    }\n",
       "\n",
       "    .dataframe tbody tr th {\n",
       "        vertical-align: top;\n",
       "    }\n",
       "\n",
       "    .dataframe thead th {\n",
       "        text-align: right;\n",
       "    }\n",
       "</style>\n",
       "<table border=\"1\" class=\"dataframe\">\n",
       "  <thead>\n",
       "    <tr style=\"text-align: right;\">\n",
       "      <th></th>\n",
       "      <th>id</th>\n",
       "      <th>crossref</th>\n",
       "      <th>ee</th>\n",
       "      <th>key</th>\n",
       "      <th>url</th>\n",
       "      <th>year</th>\n",
       "      <th>ConferenceLocation</th>\n",
       "    </tr>\n",
       "  </thead>\n",
       "  <tbody>\n",
       "    <tr>\n",
       "      <th>0</th>\n",
       "      <td>3062808</td>\n",
       "      <td>conf/coopis/2000</td>\n",
       "      <td>https://doi.org/10.1007/10722620_29</td>\n",
       "      <td>conf/coopis/ChenD00</td>\n",
       "      <td>db/conf/coopis/coopis2000.html</td>\n",
       "      <td>2000</td>\n",
       "      <td>Eilat, Israel</td>\n",
       "    </tr>\n",
       "    <tr>\n",
       "      <th>1</th>\n",
       "      <td>3062809</td>\n",
       "      <td>conf/coopis/2004-2</td>\n",
       "      <td>https://doi.org/10.1007/978-3-540-30469-2_46</td>\n",
       "      <td>conf/coopis/AbdellatifCL04</td>\n",
       "      <td>db/conf/coopis/coopis2004-2.html</td>\n",
       "      <td>2004</td>\n",
       "      <td>NaN</td>\n",
       "    </tr>\n",
       "    <tr>\n",
       "      <th>2</th>\n",
       "      <td>3062811</td>\n",
       "      <td>conf/coopis/2000</td>\n",
       "      <td>https://doi.org/10.1007/10722620_9</td>\n",
       "      <td>conf/coopis/PapastavrouCSP00</td>\n",
       "      <td>db/conf/coopis/coopis2000.html</td>\n",
       "      <td>2000</td>\n",
       "      <td>Eilat, Israel</td>\n",
       "    </tr>\n",
       "    <tr>\n",
       "      <th>3</th>\n",
       "      <td>3062812</td>\n",
       "      <td>conf/coopis/97</td>\n",
       "      <td>http://doi.ieeecomputersociety.org/10.1109/COO...</td>\n",
       "      <td>conf/coopis/BultzingsloewenKK97</td>\n",
       "      <td>db/conf/coopis/coopis97.html</td>\n",
       "      <td>1997</td>\n",
       "      <td>Kiawah Island, South Carolina, USA</td>\n",
       "    </tr>\n",
       "    <tr>\n",
       "      <th>4</th>\n",
       "      <td>3062813</td>\n",
       "      <td>conf/coopis/2003</td>\n",
       "      <td>https://doi.org/10.1007/978-3-540-39964-3_50</td>\n",
       "      <td>conf/coopis/GiacolettoA03</td>\n",
       "      <td>db/conf/coopis/coopis2003.html</td>\n",
       "      <td>2003</td>\n",
       "      <td>Catania, Sicily, Italy</td>\n",
       "    </tr>\n",
       "  </tbody>\n",
       "</table>\n",
       "</div>"
      ],
      "text/plain": [
       "        id            crossref  \\\n",
       "0  3062808    conf/coopis/2000   \n",
       "1  3062809  conf/coopis/2004-2   \n",
       "2  3062811    conf/coopis/2000   \n",
       "3  3062812      conf/coopis/97   \n",
       "4  3062813    conf/coopis/2003   \n",
       "\n",
       "                                                  ee  \\\n",
       "0                https://doi.org/10.1007/10722620_29   \n",
       "1       https://doi.org/10.1007/978-3-540-30469-2_46   \n",
       "2                 https://doi.org/10.1007/10722620_9   \n",
       "3  http://doi.ieeecomputersociety.org/10.1109/COO...   \n",
       "4       https://doi.org/10.1007/978-3-540-39964-3_50   \n",
       "\n",
       "                               key                               url  year  \\\n",
       "0              conf/coopis/ChenD00    db/conf/coopis/coopis2000.html  2000   \n",
       "1       conf/coopis/AbdellatifCL04  db/conf/coopis/coopis2004-2.html  2004   \n",
       "2     conf/coopis/PapastavrouCSP00    db/conf/coopis/coopis2000.html  2000   \n",
       "3  conf/coopis/BultzingsloewenKK97      db/conf/coopis/coopis97.html  1997   \n",
       "4        conf/coopis/GiacolettoA03    db/conf/coopis/coopis2003.html  2003   \n",
       "\n",
       "                   ConferenceLocation  \n",
       "0                       Eilat, Israel  \n",
       "1                                 NaN  \n",
       "2                       Eilat, Israel  \n",
       "3  Kiawah Island, South Carolina, USA  \n",
       "4              Catania, Sicily, Italy  "
      ]
     },
     "execution_count": 10,
     "metadata": {},
     "output_type": "execute_result"
    }
   ],
   "source": [
    "# Merge with the location dataframe\n",
    "df_dblp = pd.merge(df_dblp, df_dblp_proceedings, on=['url'], how='left')\n",
    "\n",
    "# Combine the two columns\n",
    "df_dblp['ConferenceLocation_x'] = df_dblp['ConferenceLocation_x'].fillna(df_dblp['ConferenceLocation_y'])\n",
    "df_dblp.rename(columns = {'ConferenceLocation_x':'ConferenceLocation'}, inplace=True)\n",
    "df_dblp = df_dblp.drop(columns=['ConferenceLocation_y'])\n",
    "\n",
    "df_dblp.iloc[:5]"
   ]
  },
  {
   "cell_type": "markdown",
   "metadata": {},
   "source": [
    "Count of how many paper's conference locations are still missing"
   ]
  },
  {
   "cell_type": "code",
   "execution_count": 11,
   "metadata": {},
   "outputs": [
    {
     "name": "stdout",
     "output_type": "stream",
     "text": [
      "88095 missing paper's conference locations\n"
     ]
    }
   ],
   "source": [
    "n_missing = len(df_dblp.index) - len(df_dblp.dropna(subset = ['ConferenceLocation']).index)\n",
    "print(f\"{n_missing} missing paper's conference locations\")"
   ]
  },
  {
   "cell_type": "markdown",
   "metadata": {},
   "source": [
    "## Drop of the Papers Without Location"
   ]
  },
  {
   "cell_type": "code",
   "execution_count": null,
   "metadata": {},
   "outputs": [],
   "source": [
    "df_dblp = df_dblp.dropna(subset = ['ConferenceLocation'])\n",
    "df_dblp"
   ]
  },
  {
   "cell_type": "markdown",
   "metadata": {},
   "source": [
    "## Write of the Final CSV on Disk"
   ]
  },
  {
   "cell_type": "markdown",
   "metadata": {},
   "source": [
    "Saving the resulting dataframe on disk in CSV format."
   ]
  },
  {
   "cell_type": "code",
   "execution_count": null,
   "metadata": {},
   "outputs": [],
   "source": [
    "# Write of the resulting CSV on Disk\n",
    "df_dblp.to_csv(path_file_export + 'out_dblp_papers_and_locations.csv')"
   ]
  },
  {
   "cell_type": "markdown",
   "metadata": {},
   "source": [
    "Check of the Exported CSV to be sure that everything went fine."
   ]
  },
  {
   "cell_type": "code",
   "execution_count": null,
   "metadata": {},
   "outputs": [],
   "source": [
    "# Check of the Exported CSV\n",
    "df_dblp_exported_csv = pd.read_csv(path_file_export + 'out_dblp_papers_and_locations.csv', low_memory=False, index_col=[0])\n",
    "df_dblp_exported_csv"
   ]
  },
  {
   "cell_type": "code",
   "execution_count": null,
   "metadata": {},
   "outputs": [],
   "source": []
  }
 ],
 "metadata": {
  "interpreter": {
   "hash": "b0fa6594d8f4cbf19f97940f81e996739fb7646882a419484c72d19e05852a7e"
  },
  "kernelspec": {
   "display_name": "Python 3.9.12 64-bit",
   "name": "python3"
  },
  "language_info": {
   "codemirror_mode": {
    "name": "ipython",
    "version": 3
   },
   "file_extension": ".py",
   "mimetype": "text/x-python",
   "name": "python",
   "nbconvert_exporter": "python",
   "pygments_lexer": "ipython3",
   "version": "3.9.12"
  },
  "orig_nbformat": 4
 },
 "nbformat": 4,
 "nbformat_minor": 2
}
