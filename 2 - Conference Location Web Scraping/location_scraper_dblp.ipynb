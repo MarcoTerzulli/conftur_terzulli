{
 "cells": [
  {
   "cell_type": "markdown",
   "metadata": {},
   "source": [
    "\n",
    "# Location Web Scraping of DBLP Dataset\n",
    "\n",
    "Jupyter Notebook for web scraping of the conferences locations of the DBLP dump.\n",
    "\n",
    "For this process, the following CSV file is needed: ```out_dblp_papers.csv```. \n",
    "The above file must be generated running the ```preprocess_dblp.ipynb``` Notebook that is contained in the ```1 - Citation Dumps Preprocess``` folder of this Repository.\n",
    "\n",
    "In particular, the following operations are going to be executed:\n",
    "* Opening of the CSV peprocessed dump\n",
    "* Obtaining the missing locations with queries to the DBLP website\n",
    "* Fix of the locations format\n",
    "\n",
    "Lastly, the entire preprocessed dump is going to be saved on disk in CSV format"
   ]
  },
  {
   "cell_type": "code",
   "execution_count": 1,
   "metadata": {},
   "outputs": [],
   "source": [
    "# Libraries Import\n",
    "import pandas as pd\n",
    "\n",
    "pd.set_option('display.max_columns', None)"
   ]
  },
  {
   "cell_type": "markdown",
   "metadata": {},
   "source": [
    "## File Paths\n",
    "Please set your working directory paths."
   ]
  },
  {
   "cell_type": "code",
   "execution_count": 2,
   "metadata": {},
   "outputs": [],
   "source": [
    "# ******************* PATHS ********************+\n",
    "\n",
    "# Dumps Directory Path\n",
    "path_file_import = r'/Users/marcoterzulli/File/Scuola Local/Magistrale/Materiale Corsi Attuali/Tirocinio/Cartella di Lavoro/Archivi Dump di Lavoro/Import/'\n",
    "\n",
    "# CSV Exports Directory Path\n",
    "path_file_export = r'/Users/marcoterzulli/File/Scuola Local/Magistrale/Materiale Corsi Attuali/Tirocinio/Cartella di Lavoro/Archivi Dump di Lavoro/Export/'"
   ]
  },
  {
   "cell_type": "markdown",
   "metadata": {},
   "source": [
    "## Read of the CSV Preprocessed Dump"
   ]
  },
  {
   "cell_type": "code",
   "execution_count": null,
   "metadata": {},
   "outputs": [],
   "source": [
    "df_dblp_preprocessed = pd.read_csv(path_file_export + 'out_dblp_papers.csv', low_memory=False)\n",
    "df_dblp_preprocessed"
   ]
  },
  {
   "cell_type": "markdown",
   "metadata": {},
   "source": [
    "## Obtaining the Conferences Locations from the DBLP Website\n",
    "The conferences locations are going to be obtained from queries to the DBLP Website."
   ]
  },
  {
   "cell_type": "code",
   "execution_count": null,
   "metadata": {},
   "outputs": [],
   "source": []
  },
  {
   "cell_type": "code",
   "execution_count": null,
   "metadata": {},
   "outputs": [],
   "source": []
  },
  {
   "cell_type": "markdown",
   "metadata": {},
   "source": [
    "## Write of the Final CSV on Disk"
   ]
  },
  {
   "cell_type": "markdown",
   "metadata": {},
   "source": [
    "Saving the resulting dataframe on disk in CSV format."
   ]
  },
  {
   "cell_type": "code",
   "execution_count": 7,
   "metadata": {},
   "outputs": [],
   "source": [
    "# Write of the resulting CSV on Disk\n",
    "df_dblp.to_csv(path_file_export + 'out_dblp_papers.csv')"
   ]
  },
  {
   "cell_type": "markdown",
   "metadata": {},
   "source": [
    "Check of the Exported CSV to be sure that everything went fine."
   ]
  },
  {
   "cell_type": "code",
   "execution_count": 8,
   "metadata": {},
   "outputs": [
    {
     "data": {
      "text/html": [
       "<div>\n",
       "<style scoped>\n",
       "    .dataframe tbody tr th:only-of-type {\n",
       "        vertical-align: middle;\n",
       "    }\n",
       "\n",
       "    .dataframe tbody tr th {\n",
       "        vertical-align: top;\n",
       "    }\n",
       "\n",
       "    .dataframe thead th {\n",
       "        text-align: right;\n",
       "    }\n",
       "</style>\n",
       "<table border=\"1\" class=\"dataframe\">\n",
       "  <thead>\n",
       "    <tr style=\"text-align: right;\">\n",
       "      <th></th>\n",
       "      <th>Unnamed: 0</th>\n",
       "      <th>id</th>\n",
       "      <th>crossref</th>\n",
       "      <th>ee</th>\n",
       "      <th>key</th>\n",
       "      <th>url</th>\n",
       "      <th>year</th>\n",
       "    </tr>\n",
       "  </thead>\n",
       "  <tbody>\n",
       "    <tr>\n",
       "      <th>0</th>\n",
       "      <td>1</td>\n",
       "      <td>3062808</td>\n",
       "      <td>conf/coopis/2000</td>\n",
       "      <td>https://doi.org/10.1007/10722620_29</td>\n",
       "      <td>conf/coopis/ChenD00</td>\n",
       "      <td>db/conf/coopis/coopis2000.html#ChenD00</td>\n",
       "      <td>2000</td>\n",
       "    </tr>\n",
       "    <tr>\n",
       "      <th>1</th>\n",
       "      <td>2</td>\n",
       "      <td>3062809</td>\n",
       "      <td>conf/coopis/2004-2</td>\n",
       "      <td>https://doi.org/10.1007/978-3-540-30469-2_46</td>\n",
       "      <td>conf/coopis/AbdellatifCL04</td>\n",
       "      <td>db/conf/coopis/coopis2004-2.html#AbdellatifCL04</td>\n",
       "      <td>2004</td>\n",
       "    </tr>\n",
       "    <tr>\n",
       "      <th>2</th>\n",
       "      <td>4</td>\n",
       "      <td>3062811</td>\n",
       "      <td>conf/coopis/2000</td>\n",
       "      <td>https://doi.org/10.1007/10722620_9</td>\n",
       "      <td>conf/coopis/PapastavrouCSP00</td>\n",
       "      <td>db/conf/coopis/coopis2000.html#PapastavrouCSP00</td>\n",
       "      <td>2000</td>\n",
       "    </tr>\n",
       "    <tr>\n",
       "      <th>3</th>\n",
       "      <td>5</td>\n",
       "      <td>3062812</td>\n",
       "      <td>conf/coopis/97</td>\n",
       "      <td>http://doi.ieeecomputersociety.org/10.1109/COO...</td>\n",
       "      <td>conf/coopis/BultzingsloewenKK97</td>\n",
       "      <td>db/conf/coopis/coopis97.html#BultzingsloewenKK97</td>\n",
       "      <td>1997</td>\n",
       "    </tr>\n",
       "    <tr>\n",
       "      <th>4</th>\n",
       "      <td>6</td>\n",
       "      <td>3062813</td>\n",
       "      <td>conf/coopis/2003</td>\n",
       "      <td>https://doi.org/10.1007/978-3-540-39964-3_50</td>\n",
       "      <td>conf/coopis/GiacolettoA03</td>\n",
       "      <td>db/conf/coopis/coopis2003.html#GiacolettoA03</td>\n",
       "      <td>2003</td>\n",
       "    </tr>\n",
       "    <tr>\n",
       "      <th>...</th>\n",
       "      <td>...</td>\n",
       "      <td>...</td>\n",
       "      <td>...</td>\n",
       "      <td>...</td>\n",
       "      <td>...</td>\n",
       "      <td>...</td>\n",
       "      <td>...</td>\n",
       "    </tr>\n",
       "    <tr>\n",
       "      <th>2481947</th>\n",
       "      <td>2990257</td>\n",
       "      <td>8958667</td>\n",
       "      <td>series/sapere/2013-5</td>\n",
       "      <td>https://doi.org/10.1007/978-3-642-31674-6_9</td>\n",
       "      <td>series/sapere/Besold13</td>\n",
       "      <td>db/series/sapere/sapere5.html#Besold13</td>\n",
       "      <td>2011</td>\n",
       "    </tr>\n",
       "    <tr>\n",
       "      <th>2481948</th>\n",
       "      <td>2990258</td>\n",
       "      <td>8958671</td>\n",
       "      <td>series/sapere/2013-5</td>\n",
       "      <td>https://doi.org/10.1007/978-3-642-31674-6_20</td>\n",
       "      <td>series/sapere/Steiner13</td>\n",
       "      <td>db/series/sapere/sapere5.html#Steiner13</td>\n",
       "      <td>2011</td>\n",
       "    </tr>\n",
       "    <tr>\n",
       "      <th>2481949</th>\n",
       "      <td>2990259</td>\n",
       "      <td>8958672</td>\n",
       "      <td>series/sapere/2013-5</td>\n",
       "      <td>https://doi.org/10.1007/978-3-642-31674-6_25</td>\n",
       "      <td>series/sapere/Armstrong13</td>\n",
       "      <td>db/series/sapere/sapere5.html#Armstrong13</td>\n",
       "      <td>2011</td>\n",
       "    </tr>\n",
       "    <tr>\n",
       "      <th>2481950</th>\n",
       "      <td>2990260</td>\n",
       "      <td>8958682</td>\n",
       "      <td>series/sapere/2013-5</td>\n",
       "      <td>https://doi.org/10.1007/978-3-642-31674-6_12</td>\n",
       "      <td>series/sapere/Freed13</td>\n",
       "      <td>db/series/sapere/sapere5.html#Freed13</td>\n",
       "      <td>2011</td>\n",
       "    </tr>\n",
       "    <tr>\n",
       "      <th>2481951</th>\n",
       "      <td>2990261</td>\n",
       "      <td>8958686</td>\n",
       "      <td>series/sapere/2013-5</td>\n",
       "      <td>https://doi.org/10.1007/978-3-642-31674-6_3</td>\n",
       "      <td>series/sapere/Bokulich13</td>\n",
       "      <td>db/series/sapere/sapere5.html#Bokulich13</td>\n",
       "      <td>2011</td>\n",
       "    </tr>\n",
       "  </tbody>\n",
       "</table>\n",
       "<p>2481952 rows × 7 columns</p>\n",
       "</div>"
      ],
      "text/plain": [
       "         Unnamed: 0       id              crossref  \\\n",
       "0                 1  3062808      conf/coopis/2000   \n",
       "1                 2  3062809    conf/coopis/2004-2   \n",
       "2                 4  3062811      conf/coopis/2000   \n",
       "3                 5  3062812        conf/coopis/97   \n",
       "4                 6  3062813      conf/coopis/2003   \n",
       "...             ...      ...                   ...   \n",
       "2481947     2990257  8958667  series/sapere/2013-5   \n",
       "2481948     2990258  8958671  series/sapere/2013-5   \n",
       "2481949     2990259  8958672  series/sapere/2013-5   \n",
       "2481950     2990260  8958682  series/sapere/2013-5   \n",
       "2481951     2990261  8958686  series/sapere/2013-5   \n",
       "\n",
       "                                                        ee  \\\n",
       "0                      https://doi.org/10.1007/10722620_29   \n",
       "1             https://doi.org/10.1007/978-3-540-30469-2_46   \n",
       "2                       https://doi.org/10.1007/10722620_9   \n",
       "3        http://doi.ieeecomputersociety.org/10.1109/COO...   \n",
       "4             https://doi.org/10.1007/978-3-540-39964-3_50   \n",
       "...                                                    ...   \n",
       "2481947        https://doi.org/10.1007/978-3-642-31674-6_9   \n",
       "2481948       https://doi.org/10.1007/978-3-642-31674-6_20   \n",
       "2481949       https://doi.org/10.1007/978-3-642-31674-6_25   \n",
       "2481950       https://doi.org/10.1007/978-3-642-31674-6_12   \n",
       "2481951        https://doi.org/10.1007/978-3-642-31674-6_3   \n",
       "\n",
       "                                     key  \\\n",
       "0                    conf/coopis/ChenD00   \n",
       "1             conf/coopis/AbdellatifCL04   \n",
       "2           conf/coopis/PapastavrouCSP00   \n",
       "3        conf/coopis/BultzingsloewenKK97   \n",
       "4              conf/coopis/GiacolettoA03   \n",
       "...                                  ...   \n",
       "2481947           series/sapere/Besold13   \n",
       "2481948          series/sapere/Steiner13   \n",
       "2481949        series/sapere/Armstrong13   \n",
       "2481950            series/sapere/Freed13   \n",
       "2481951         series/sapere/Bokulich13   \n",
       "\n",
       "                                                      url  year  \n",
       "0                  db/conf/coopis/coopis2000.html#ChenD00  2000  \n",
       "1         db/conf/coopis/coopis2004-2.html#AbdellatifCL04  2004  \n",
       "2         db/conf/coopis/coopis2000.html#PapastavrouCSP00  2000  \n",
       "3        db/conf/coopis/coopis97.html#BultzingsloewenKK97  1997  \n",
       "4            db/conf/coopis/coopis2003.html#GiacolettoA03  2003  \n",
       "...                                                   ...   ...  \n",
       "2481947            db/series/sapere/sapere5.html#Besold13  2011  \n",
       "2481948           db/series/sapere/sapere5.html#Steiner13  2011  \n",
       "2481949         db/series/sapere/sapere5.html#Armstrong13  2011  \n",
       "2481950             db/series/sapere/sapere5.html#Freed13  2011  \n",
       "2481951          db/series/sapere/sapere5.html#Bokulich13  2011  \n",
       "\n",
       "[2481952 rows x 7 columns]"
      ]
     },
     "execution_count": 8,
     "metadata": {},
     "output_type": "execute_result"
    }
   ],
   "source": [
    "# Check of the Exported CSV\n",
    "df_dblp_exported_csv = pd.read_csv(path_file_export + 'out_dblp_papers.csv', low_memory=False)\n",
    "df_dblp_exported_csv"
   ]
  },
  {
   "cell_type": "code",
   "execution_count": null,
   "metadata": {},
   "outputs": [],
   "source": []
  }
 ],
 "metadata": {
  "interpreter": {
   "hash": "b0fa6594d8f4cbf19f97940f81e996739fb7646882a419484c72d19e05852a7e"
  },
  "kernelspec": {
   "display_name": "Python 3.9.10 64-bit",
   "name": "python3"
  },
  "language_info": {
   "codemirror_mode": {
    "name": "ipython",
    "version": 3
   },
   "file_extension": ".py",
   "mimetype": "text/x-python",
   "name": "python",
   "nbconvert_exporter": "python",
   "pygments_lexer": "ipython3",
   "version": "3.9.12"
  },
  "orig_nbformat": 4
 },
 "nbformat": 4,
 "nbformat_minor": 2
}
