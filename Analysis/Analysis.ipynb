{
 "cells": [
  {
   "cell_type": "markdown",
   "metadata": {},
   "source": [
    "# Conftur - Analysis\n",
    "\n",
    "Jupyter Notebook that analyzes data for studying the correlation between the \"touristicy\" of conference venue and its articles impact.\n",
    "\n",
    "Our analysis are mainly diveded in two parts:\n",
    "* Exploratory analysis on the bibliometric data\n",
    "* Computation and analysis of the correlation between the articles impact and the touristicy of the different conferences locations\n",
    "\n",
    "____________________________________________________________\n",
    "\n",
    "For this process, our datasets are going to be used. They can be generated running the notebooks contained in the ```Dataset Creation Pipeline``` folder.\n"
   ]
  },
  {
   "cell_type": "code",
   "execution_count": 1,
   "metadata": {},
   "outputs": [],
   "source": [
    "# Libraries Import\n",
    "from datetime import date\n",
    "import math\n",
    "import matplotlib as mpl\n",
    "import matplotlib.pyplot as plt\n",
    "import numpy as np\n",
    "import pandas as pd\n",
    "from scipy import stats\n",
    "import seaborn as sns\n",
    "\n",
    "# Libraries options\n",
    "mpl.rcParams['font.size'] = 22\n",
    "pd.set_option('display.max_columns', None)\n",
    "plt.style.use('seaborn-colorblind')"
   ]
  },
  {
   "cell_type": "markdown",
   "metadata": {},
   "source": [
    "## File Paths\n",
    "Please set your working directory paths."
   ]
  },
  {
   "cell_type": "code",
   "execution_count": 2,
   "metadata": {},
   "outputs": [],
   "source": [
    "# ******************* PATHS ********************+\n",
    "\n",
    "# Import Directory Path\n",
    "path_file_import = r'/Users/marcoterzulli/File/Scuola Local/Magistrale/Materiale Corsi Attuali/Tirocinio/Cartella di Lavoro/Archivi Dump di Lavoro/Import/'\n",
    "\n",
    "# CSV Exports Directory Path\n",
    "path_file_export = r'/Users/marcoterzulli/File/Scuola Local/Magistrale/Materiale Corsi Attuali/Tirocinio/Cartella di Lavoro/Archivi Dump di Lavoro/Export/'"
   ]
  },
  {
   "cell_type": "markdown",
   "metadata": {},
   "source": [
    "## Import of the Datasets"
   ]
  },
  {
   "cell_type": "code",
   "execution_count": 3,
   "metadata": {},
   "outputs": [
    {
     "name": "stdout",
     "output_type": "stream",
     "text": [
      "Successfully Imported the Conference Citations and Locations CSV\n"
     ]
    }
   ],
   "source": [
    "df_citations_and_locations = pd.read_csv(path_file_export + 'out_COCI_citations_and_locations_analysis_ready.csv', low_memory=False, index_col=[0])\n",
    "print(f'Successfully Imported the Conference Citations and Locations CSV')"
   ]
  },
  {
   "cell_type": "code",
   "execution_count": 4,
   "metadata": {},
   "outputs": [
    {
     "data": {
      "text/html": [
       "<div>\n",
       "<style scoped>\n",
       "    .dataframe tbody tr th:only-of-type {\n",
       "        vertical-align: middle;\n",
       "    }\n",
       "\n",
       "    .dataframe tbody tr th {\n",
       "        vertical-align: top;\n",
       "    }\n",
       "\n",
       "    .dataframe thead th {\n",
       "        text-align: right;\n",
       "    }\n",
       "</style>\n",
       "<table border=\"1\" class=\"dataframe\">\n",
       "  <thead>\n",
       "    <tr style=\"text-align: right;\">\n",
       "      <th></th>\n",
       "      <th>CitationCount</th>\n",
       "      <th>ConferenceLocation</th>\n",
       "      <th>ConferenceNormalizedName</th>\n",
       "      <th>ConferenceSeriesNormalizedName</th>\n",
       "      <th>Doi</th>\n",
       "      <th>Year</th>\n",
       "    </tr>\n",
       "  </thead>\n",
       "  <tbody>\n",
       "    <tr>\n",
       "      <th>0</th>\n",
       "      <td>10</td>\n",
       "      <td>Austin, Texas, United States</td>\n",
       "      <td>disc 2014</td>\n",
       "      <td>disc</td>\n",
       "      <td>10.1007/978-3-662-45174-8_28</td>\n",
       "      <td>2014</td>\n",
       "    </tr>\n",
       "    <tr>\n",
       "      <th>1</th>\n",
       "      <td>5</td>\n",
       "      <td>Wrocław, Lower Silesian Voivodeship, Poland</td>\n",
       "      <td>esa 2014</td>\n",
       "      <td>esa</td>\n",
       "      <td>10.1007/978-3-662-44777-2_60</td>\n",
       "      <td>2014</td>\n",
       "    </tr>\n",
       "    <tr>\n",
       "      <th>2</th>\n",
       "      <td>11</td>\n",
       "      <td>Innsbruck, Tyrol, Austria</td>\n",
       "      <td>enter 2013</td>\n",
       "      <td>enter</td>\n",
       "      <td>10.1007/978-3-319-03973-2_13</td>\n",
       "      <td>2013</td>\n",
       "    </tr>\n",
       "    <tr>\n",
       "      <th>3</th>\n",
       "      <td>1</td>\n",
       "      <td>Villefranche-sur-Saône, Auvergne-Rhône-Alpes, ...</td>\n",
       "      <td>dexa 2002</td>\n",
       "      <td>dexa</td>\n",
       "      <td>10.1007/3-540-46146-9_77</td>\n",
       "      <td>2002</td>\n",
       "    </tr>\n",
       "    <tr>\n",
       "      <th>4</th>\n",
       "      <td>9</td>\n",
       "      <td>Zakopane, Lesser Poland Voivodeship, Poland</td>\n",
       "      <td>icaisc 2006</td>\n",
       "      <td>icaisc</td>\n",
       "      <td>10.1007/11785231_94</td>\n",
       "      <td>2006</td>\n",
       "    </tr>\n",
       "    <tr>\n",
       "      <th>...</th>\n",
       "      <td>...</td>\n",
       "      <td>...</td>\n",
       "      <td>...</td>\n",
       "      <td>...</td>\n",
       "      <td>...</td>\n",
       "      <td>...</td>\n",
       "    </tr>\n",
       "    <tr>\n",
       "      <th>3107878</th>\n",
       "      <td>4</td>\n",
       "      <td>Thessaloniki, Macedonia and Thrace, Greece</td>\n",
       "      <td>sapere 2011</td>\n",
       "      <td>sapere</td>\n",
       "      <td>10.1007/978-3-642-31674-6_9</td>\n",
       "      <td>2011</td>\n",
       "    </tr>\n",
       "    <tr>\n",
       "      <th>3107879</th>\n",
       "      <td>4</td>\n",
       "      <td>Thessaloniki, Macedonia and Thrace, Greece</td>\n",
       "      <td>sapere 2011</td>\n",
       "      <td>sapere</td>\n",
       "      <td>10.1007/978-3-642-31674-6_20</td>\n",
       "      <td>2011</td>\n",
       "    </tr>\n",
       "    <tr>\n",
       "      <th>3107880</th>\n",
       "      <td>2</td>\n",
       "      <td>Thessaloniki, Macedonia and Thrace, Greece</td>\n",
       "      <td>sapere 2011</td>\n",
       "      <td>sapere</td>\n",
       "      <td>10.1007/978-3-642-31674-6_25</td>\n",
       "      <td>2011</td>\n",
       "    </tr>\n",
       "    <tr>\n",
       "      <th>3107881</th>\n",
       "      <td>0</td>\n",
       "      <td>Thessaloniki, Macedonia and Thrace, Greece</td>\n",
       "      <td>sapere 2011</td>\n",
       "      <td>sapere</td>\n",
       "      <td>10.1007/978-3-642-31674-6_12</td>\n",
       "      <td>2011</td>\n",
       "    </tr>\n",
       "    <tr>\n",
       "      <th>3107882</th>\n",
       "      <td>3</td>\n",
       "      <td>Thessaloniki, Macedonia and Thrace, Greece</td>\n",
       "      <td>sapere 2011</td>\n",
       "      <td>sapere</td>\n",
       "      <td>10.1007/978-3-642-31674-6_3</td>\n",
       "      <td>2011</td>\n",
       "    </tr>\n",
       "  </tbody>\n",
       "</table>\n",
       "<p>3107883 rows × 6 columns</p>\n",
       "</div>"
      ],
      "text/plain": [
       "         CitationCount                                 ConferenceLocation  \\\n",
       "0                   10                       Austin, Texas, United States   \n",
       "1                    5        Wrocław, Lower Silesian Voivodeship, Poland   \n",
       "2                   11                          Innsbruck, Tyrol, Austria   \n",
       "3                    1  Villefranche-sur-Saône, Auvergne-Rhône-Alpes, ...   \n",
       "4                    9        Zakopane, Lesser Poland Voivodeship, Poland   \n",
       "...                ...                                                ...   \n",
       "3107878              4         Thessaloniki, Macedonia and Thrace, Greece   \n",
       "3107879              4         Thessaloniki, Macedonia and Thrace, Greece   \n",
       "3107880              2         Thessaloniki, Macedonia and Thrace, Greece   \n",
       "3107881              0         Thessaloniki, Macedonia and Thrace, Greece   \n",
       "3107882              3         Thessaloniki, Macedonia and Thrace, Greece   \n",
       "\n",
       "        ConferenceNormalizedName ConferenceSeriesNormalizedName  \\\n",
       "0                      disc 2014                           disc   \n",
       "1                       esa 2014                            esa   \n",
       "2                     enter 2013                          enter   \n",
       "3                      dexa 2002                           dexa   \n",
       "4                    icaisc 2006                         icaisc   \n",
       "...                          ...                            ...   \n",
       "3107878              sapere 2011                         sapere   \n",
       "3107879              sapere 2011                         sapere   \n",
       "3107880              sapere 2011                         sapere   \n",
       "3107881              sapere 2011                         sapere   \n",
       "3107882              sapere 2011                         sapere   \n",
       "\n",
       "                                  Doi  Year  \n",
       "0        10.1007/978-3-662-45174-8_28  2014  \n",
       "1        10.1007/978-3-662-44777-2_60  2014  \n",
       "2        10.1007/978-3-319-03973-2_13  2013  \n",
       "3            10.1007/3-540-46146-9_77  2002  \n",
       "4                 10.1007/11785231_94  2006  \n",
       "...                               ...   ...  \n",
       "3107878   10.1007/978-3-642-31674-6_9  2011  \n",
       "3107879  10.1007/978-3-642-31674-6_20  2011  \n",
       "3107880  10.1007/978-3-642-31674-6_25  2011  \n",
       "3107881  10.1007/978-3-642-31674-6_12  2011  \n",
       "3107882   10.1007/978-3-642-31674-6_3  2011  \n",
       "\n",
       "[3107883 rows x 6 columns]"
      ]
     },
     "execution_count": 4,
     "metadata": {},
     "output_type": "execute_result"
    }
   ],
   "source": [
    "df_citations_and_locations"
   ]
  },
  {
   "cell_type": "markdown",
   "metadata": {},
   "source": [
    "## Data Cleanup\n",
    "Before proceeding with the analysis, we need to filter the two recent articles and the too old one (we do not have enough data for the oldest conferences)."
   ]
  },
  {
   "cell_type": "markdown",
   "metadata": {},
   "source": [
    "### Removing the too recent articles"
   ]
  },
  {
   "cell_type": "code",
   "execution_count": 5,
   "metadata": {},
   "outputs": [],
   "source": [
    "actual_year = date.today().year"
   ]
  },
  {
   "cell_type": "markdown",
   "metadata": {},
   "source": [
    "Here you can specify how many years old articles should be at least"
   ]
  },
  {
   "cell_type": "code",
   "execution_count": 6,
   "metadata": {},
   "outputs": [],
   "source": [
    "minimum_years = 5"
   ]
  },
  {
   "cell_type": "markdown",
   "metadata": {},
   "source": [
    "Removing the too recent articles:"
   ]
  },
  {
   "cell_type": "code",
   "execution_count": 7,
   "metadata": {},
   "outputs": [],
   "source": [
    "df_citations_and_locations = df_citations_and_locations.drop(df_citations_and_locations[df_citations_and_locations.Year > actual_year - minimum_years].index)"
   ]
  },
  {
   "cell_type": "markdown",
   "metadata": {},
   "source": [
    "### Removing the too old articles"
   ]
  },
  {
   "cell_type": "markdown",
   "metadata": {},
   "source": [
    "We're going to compute the number of citations for each year, so we can choose the starting year for our analysis."
   ]
  },
  {
   "cell_type": "code",
   "execution_count": 8,
   "metadata": {},
   "outputs": [
    {
     "data": {
      "text/plain": [
       "Year\n",
       "1951       19\n",
       "1952       75\n",
       "1953       55\n",
       "1954       44\n",
       "1955       44\n",
       "1956       72\n",
       "1957       87\n",
       "1958      138\n",
       "1959      173\n",
       "1960       66\n",
       "1961      125\n",
       "1962       81\n",
       "1963      106\n",
       "1964      165\n",
       "1965      242\n",
       "1966      167\n",
       "1967      414\n",
       "1968      298\n",
       "1969      412\n",
       "1970      353\n",
       "1971      655\n",
       "1972      973\n",
       "1973     1354\n",
       "1974     1593\n",
       "1975     1399\n",
       "1976     1799\n",
       "1977     1412\n",
       "1978     1944\n",
       "1979     1978\n",
       "1980     1973\n",
       "1981     2590\n",
       "1982     3214\n",
       "1983     2608\n",
       "1984     3129\n",
       "1985     3479\n",
       "1986     4583\n",
       "1987     4723\n",
       "1988     8136\n",
       "1989     9444\n",
       "1990    11409\n",
       "1991    11520\n",
       "1992    14013\n",
       "1993    15515\n",
       "1994    22345\n",
       "1995    21537\n",
       "1996    23668\n",
       "1997    24675\n",
       "1998    32151\n",
       "1999    34126\n",
       "2000    40685\n",
       "Name: CitationCount, dtype: int64"
      ]
     },
     "execution_count": 8,
     "metadata": {},
     "output_type": "execute_result"
    }
   ],
   "source": [
    "df_articles_groupby_year = df_citations_and_locations.groupby(['Year']).CitationCount.count()\n",
    "df_articles_groupby_year.head(50)"
   ]
  },
  {
   "cell_type": "markdown",
   "metadata": {},
   "source": [
    "Here you can specify the starting year."
   ]
  },
  {
   "cell_type": "code",
   "execution_count": 9,
   "metadata": {},
   "outputs": [],
   "source": [
    "start_year = 1981"
   ]
  },
  {
   "cell_type": "markdown",
   "metadata": {},
   "source": [
    "Removing the too old articles:"
   ]
  },
  {
   "cell_type": "code",
   "execution_count": 10,
   "metadata": {},
   "outputs": [],
   "source": [
    "df_citations_and_locations = df_citations_and_locations.drop(df_citations_and_locations[df_citations_and_locations.Year < 1981].index)"
   ]
  },
  {
   "cell_type": "markdown",
   "metadata": {},
   "source": [
    "Reset the indexes after the drop:"
   ]
  },
  {
   "cell_type": "code",
   "execution_count": 11,
   "metadata": {},
   "outputs": [],
   "source": [
    "df_citations_and_locations = df_citations_and_locations.reset_index(drop=True)"
   ]
  },
  {
   "cell_type": "markdown",
   "metadata": {},
   "source": [
    "____________________________________________________________"
   ]
  },
  {
   "cell_type": "markdown",
   "metadata": {},
   "source": [
    "## Exploratory Data Analysis on the Bibliometric Data"
   ]
  },
  {
   "cell_type": "markdown",
   "metadata": {},
   "source": [
    "### General Top and Flop 10 Classifications"
   ]
  },
  {
   "cell_type": "markdown",
   "metadata": {},
   "source": [
    "#### Top 10 Conferences Editions by Citation Count"
   ]
  },
  {
   "cell_type": "code",
   "execution_count": 12,
   "metadata": {},
   "outputs": [
    {
     "data": {
      "image/png": "[encoded data removed]",
      "text/plain": [
       "<Figure size 432x288 with 1 Axes>"
      ]
     },
     "metadata": {
      "needs_background": "light"
     },
     "output_type": "display_data"
    }
   ],
   "source": [
    "citations_top10 = {v:k for v,k in df_citations_and_locations.groupby(['ConferenceNormalizedName']).CitationCount.sum().sort_values(ascending=False).head(10).items()}\n",
    "\n",
    "citations_top10_plot = sns.barplot(x=list(citations_top10.values()), y=list(citations_top10.keys()))"
   ]
  },
  {
   "cell_type": "markdown",
   "metadata": {},
   "source": [
    "#### Flop 10 Conferences Editions by Citation Count"
   ]
  },
  {
   "cell_type": "code",
   "execution_count": 13,
   "metadata": {},
   "outputs": [
    {
     "data": {
      "image/png": "[encoded data removed]",
      "text/plain": [
       "<Figure size 432x288 with 1 Axes>"
      ]
     },
     "metadata": {
      "needs_background": "light"
     },
     "output_type": "display_data"
    }
   ],
   "source": [
    "# Only for the conferences with at least a citation\n",
    "citations_flop10 = {v:k for v,k in df_citations_and_locations[df_citations_and_locations['CitationCount']>0].groupby(['ConferenceNormalizedName']).CitationCount.sum().sort_values().head(10).items()}\n",
    "\n",
    "citations_flop10_plot = sns.barplot(x=list(citations_flop10.values()), y=list(citations_flop10.keys()))"
   ]
  },
  {
   "cell_type": "code",
   "execution_count": 14,
   "metadata": {},
   "outputs": [
    {
     "data": {
      "text/html": [
       "<div>\n",
       "<style scoped>\n",
       "    .dataframe tbody tr th:only-of-type {\n",
       "        vertical-align: middle;\n",
       "    }\n",
       "\n",
       "    .dataframe tbody tr th {\n",
       "        vertical-align: top;\n",
       "    }\n",
       "\n",
       "    .dataframe thead th {\n",
       "        text-align: right;\n",
       "    }\n",
       "</style>\n",
       "<table border=\"1\" class=\"dataframe\">\n",
       "  <thead>\n",
       "    <tr style=\"text-align: right;\">\n",
       "      <th></th>\n",
       "      <th>CitationCount</th>\n",
       "      <th>ConferenceLocation</th>\n",
       "      <th>ConferenceNormalizedName</th>\n",
       "      <th>ConferenceSeriesNormalizedName</th>\n",
       "      <th>Doi</th>\n",
       "      <th>Year</th>\n",
       "    </tr>\n",
       "  </thead>\n",
       "  <tbody>\n",
       "    <tr>\n",
       "      <th>0</th>\n",
       "      <td>10</td>\n",
       "      <td>Austin, Texas, United States</td>\n",
       "      <td>disc 2014</td>\n",
       "      <td>disc</td>\n",
       "      <td>10.1007/978-3-662-45174-8_28</td>\n",
       "      <td>2014</td>\n",
       "    </tr>\n",
       "    <tr>\n",
       "      <th>1</th>\n",
       "      <td>5</td>\n",
       "      <td>Wrocław, Lower Silesian Voivodeship, Poland</td>\n",
       "      <td>esa 2014</td>\n",
       "      <td>esa</td>\n",
       "      <td>10.1007/978-3-662-44777-2_60</td>\n",
       "      <td>2014</td>\n",
       "    </tr>\n",
       "    <tr>\n",
       "      <th>2</th>\n",
       "      <td>11</td>\n",
       "      <td>Innsbruck, Tyrol, Austria</td>\n",
       "      <td>enter 2013</td>\n",
       "      <td>enter</td>\n",
       "      <td>10.1007/978-3-319-03973-2_13</td>\n",
       "      <td>2013</td>\n",
       "    </tr>\n",
       "    <tr>\n",
       "      <th>3</th>\n",
       "      <td>1</td>\n",
       "      <td>Villefranche-sur-Saône, Auvergne-Rhône-Alpes, ...</td>\n",
       "      <td>dexa 2002</td>\n",
       "      <td>dexa</td>\n",
       "      <td>10.1007/3-540-46146-9_77</td>\n",
       "      <td>2002</td>\n",
       "    </tr>\n",
       "    <tr>\n",
       "      <th>4</th>\n",
       "      <td>9</td>\n",
       "      <td>Zakopane, Lesser Poland Voivodeship, Poland</td>\n",
       "      <td>icaisc 2006</td>\n",
       "      <td>icaisc</td>\n",
       "      <td>10.1007/11785231_94</td>\n",
       "      <td>2006</td>\n",
       "    </tr>\n",
       "    <tr>\n",
       "      <th>...</th>\n",
       "      <td>...</td>\n",
       "      <td>...</td>\n",
       "      <td>...</td>\n",
       "      <td>...</td>\n",
       "      <td>...</td>\n",
       "      <td>...</td>\n",
       "    </tr>\n",
       "    <tr>\n",
       "      <th>2476746</th>\n",
       "      <td>4</td>\n",
       "      <td>Thessaloniki, Macedonia and Thrace, Greece</td>\n",
       "      <td>sapere 2011</td>\n",
       "      <td>sapere</td>\n",
       "      <td>10.1007/978-3-642-31674-6_9</td>\n",
       "      <td>2011</td>\n",
       "    </tr>\n",
       "    <tr>\n",
       "      <th>2476747</th>\n",
       "      <td>4</td>\n",
       "      <td>Thessaloniki, Macedonia and Thrace, Greece</td>\n",
       "      <td>sapere 2011</td>\n",
       "      <td>sapere</td>\n",
       "      <td>10.1007/978-3-642-31674-6_20</td>\n",
       "      <td>2011</td>\n",
       "    </tr>\n",
       "    <tr>\n",
       "      <th>2476748</th>\n",
       "      <td>2</td>\n",
       "      <td>Thessaloniki, Macedonia and Thrace, Greece</td>\n",
       "      <td>sapere 2011</td>\n",
       "      <td>sapere</td>\n",
       "      <td>10.1007/978-3-642-31674-6_25</td>\n",
       "      <td>2011</td>\n",
       "    </tr>\n",
       "    <tr>\n",
       "      <th>2476749</th>\n",
       "      <td>0</td>\n",
       "      <td>Thessaloniki, Macedonia and Thrace, Greece</td>\n",
       "      <td>sapere 2011</td>\n",
       "      <td>sapere</td>\n",
       "      <td>10.1007/978-3-642-31674-6_12</td>\n",
       "      <td>2011</td>\n",
       "    </tr>\n",
       "    <tr>\n",
       "      <th>2476750</th>\n",
       "      <td>3</td>\n",
       "      <td>Thessaloniki, Macedonia and Thrace, Greece</td>\n",
       "      <td>sapere 2011</td>\n",
       "      <td>sapere</td>\n",
       "      <td>10.1007/978-3-642-31674-6_3</td>\n",
       "      <td>2011</td>\n",
       "    </tr>\n",
       "  </tbody>\n",
       "</table>\n",
       "<p>2476751 rows × 6 columns</p>\n",
       "</div>"
      ],
      "text/plain": [
       "         CitationCount                                 ConferenceLocation  \\\n",
       "0                   10                       Austin, Texas, United States   \n",
       "1                    5        Wrocław, Lower Silesian Voivodeship, Poland   \n",
       "2                   11                          Innsbruck, Tyrol, Austria   \n",
       "3                    1  Villefranche-sur-Saône, Auvergne-Rhône-Alpes, ...   \n",
       "4                    9        Zakopane, Lesser Poland Voivodeship, Poland   \n",
       "...                ...                                                ...   \n",
       "2476746              4         Thessaloniki, Macedonia and Thrace, Greece   \n",
       "2476747              4         Thessaloniki, Macedonia and Thrace, Greece   \n",
       "2476748              2         Thessaloniki, Macedonia and Thrace, Greece   \n",
       "2476749              0         Thessaloniki, Macedonia and Thrace, Greece   \n",
       "2476750              3         Thessaloniki, Macedonia and Thrace, Greece   \n",
       "\n",
       "        ConferenceNormalizedName ConferenceSeriesNormalizedName  \\\n",
       "0                      disc 2014                           disc   \n",
       "1                       esa 2014                            esa   \n",
       "2                     enter 2013                          enter   \n",
       "3                      dexa 2002                           dexa   \n",
       "4                    icaisc 2006                         icaisc   \n",
       "...                          ...                            ...   \n",
       "2476746              sapere 2011                         sapere   \n",
       "2476747              sapere 2011                         sapere   \n",
       "2476748              sapere 2011                         sapere   \n",
       "2476749              sapere 2011                         sapere   \n",
       "2476750              sapere 2011                         sapere   \n",
       "\n",
       "                                  Doi  Year  \n",
       "0        10.1007/978-3-662-45174-8_28  2014  \n",
       "1        10.1007/978-3-662-44777-2_60  2014  \n",
       "2        10.1007/978-3-319-03973-2_13  2013  \n",
       "3            10.1007/3-540-46146-9_77  2002  \n",
       "4                 10.1007/11785231_94  2006  \n",
       "...                               ...   ...  \n",
       "2476746   10.1007/978-3-642-31674-6_9  2011  \n",
       "2476747  10.1007/978-3-642-31674-6_20  2011  \n",
       "2476748  10.1007/978-3-642-31674-6_25  2011  \n",
       "2476749  10.1007/978-3-642-31674-6_12  2011  \n",
       "2476750   10.1007/978-3-642-31674-6_3  2011  \n",
       "\n",
       "[2476751 rows x 6 columns]"
      ]
     },
     "execution_count": 14,
     "metadata": {},
     "output_type": "execute_result"
    }
   ],
   "source": [
    "df_citations_and_locations"
   ]
  },
  {
   "cell_type": "markdown",
   "metadata": {},
   "source": [
    "#### Top 10 Conferences Editions by AVG Citation Count"
   ]
  },
  {
   "cell_type": "code",
   "execution_count": 16,
   "metadata": {},
   "outputs": [
    {
     "data": {
      "text/html": [
       "<div>\n",
       "<style scoped>\n",
       "    .dataframe tbody tr th:only-of-type {\n",
       "        vertical-align: middle;\n",
       "    }\n",
       "\n",
       "    .dataframe tbody tr th {\n",
       "        vertical-align: top;\n",
       "    }\n",
       "\n",
       "    .dataframe thead th {\n",
       "        text-align: right;\n",
       "    }\n",
       "</style>\n",
       "<table border=\"1\" class=\"dataframe\">\n",
       "  <thead>\n",
       "    <tr style=\"text-align: right;\">\n",
       "      <th></th>\n",
       "      <th>Total Citations</th>\n",
       "      <th>AVG Citations</th>\n",
       "      <th>N. of Articles</th>\n",
       "    </tr>\n",
       "  </thead>\n",
       "  <tbody>\n",
       "    <tr>\n",
       "      <th>security 2004</th>\n",
       "      <td>1058</td>\n",
       "      <td>1058.000000</td>\n",
       "      <td>1</td>\n",
       "    </tr>\n",
       "    <tr>\n",
       "      <th>amia 2009</th>\n",
       "      <td>3792</td>\n",
       "      <td>948.000000</td>\n",
       "      <td>4</td>\n",
       "    </tr>\n",
       "    <tr>\n",
       "      <th>wmcsa 1999</th>\n",
       "      <td>5772</td>\n",
       "      <td>481.000000</td>\n",
       "      <td>12</td>\n",
       "    </tr>\n",
       "    <tr>\n",
       "      <th>mobicom 2000</th>\n",
       "      <td>13929</td>\n",
       "      <td>480.310345</td>\n",
       "      <td>29</td>\n",
       "    </tr>\n",
       "    <tr>\n",
       "      <th>aipr 1994</th>\n",
       "      <td>452</td>\n",
       "      <td>452.000000</td>\n",
       "      <td>1</td>\n",
       "    </tr>\n",
       "    <tr>\n",
       "      <th>neurips 1988</th>\n",
       "      <td>1033</td>\n",
       "      <td>344.333333</td>\n",
       "      <td>3</td>\n",
       "    </tr>\n",
       "    <tr>\n",
       "      <th>mobicom 2001</th>\n",
       "      <td>9726</td>\n",
       "      <td>324.200000</td>\n",
       "      <td>30</td>\n",
       "    </tr>\n",
       "    <tr>\n",
       "      <th>fast 2008</th>\n",
       "      <td>321</td>\n",
       "      <td>321.000000</td>\n",
       "      <td>1</td>\n",
       "    </tr>\n",
       "    <tr>\n",
       "      <th>wsna 2002</th>\n",
       "      <td>4641</td>\n",
       "      <td>309.400000</td>\n",
       "      <td>15</td>\n",
       "    </tr>\n",
       "    <tr>\n",
       "      <th>sigir 2001</th>\n",
       "      <td>1433</td>\n",
       "      <td>286.600000</td>\n",
       "      <td>5</td>\n",
       "    </tr>\n",
       "  </tbody>\n",
       "</table>\n",
       "</div>"
      ],
      "text/plain": [
       "               Total Citations  AVG Citations  N. of Articles\n",
       "security 2004             1058    1058.000000               1\n",
       "amia 2009                 3792     948.000000               4\n",
       "wmcsa 1999                5772     481.000000              12\n",
       "mobicom 2000             13929     480.310345              29\n",
       "aipr 1994                  452     452.000000               1\n",
       "neurips 1988              1033     344.333333               3\n",
       "mobicom 2001              9726     324.200000              30\n",
       "fast 2008                  321     321.000000               1\n",
       "wsna 2002                 4641     309.400000              15\n",
       "sigir 2001                1433     286.600000               5"
      ]
     },
     "execution_count": 16,
     "metadata": {},
     "output_type": "execute_result"
    }
   ],
   "source": [
    "single_conference_cit = df_citations_and_locations.groupby(['ConferenceNormalizedName']).CitationCount.sum().sort_values(ascending=False)\n",
    "single_conference_count_article = df_citations_and_locations.groupby(['ConferenceNormalizedName']).CitationCount.count().sort_values(ascending=False)\n",
    "\n",
    "# AVG Citations Computation\n",
    "single_conference_avg_cit = {key: (int(val) / int(single_conference_count_article[key])) for key, val in single_conference_cit.items()}\n",
    "\n",
    "# Dataframe creation\n",
    "single_conference = {k: [v, single_conference_avg_cit[k], single_conference_count_article[k]] for k, v in single_conference_cit.items()}\n",
    "df_single_conference = pd.DataFrame(data=single_conference.values(), index=single_conference.keys(), columns=['Total Citations', 'AVG Citations', 'N. of Articles'])\n",
    "df_single_conference = df_single_conference.sort_values('AVG Citations', ascending=False)\n",
    "\n",
    "df_single_conference.head(10)"
   ]
  },
  {
   "cell_type": "code",
   "execution_count": 17,
   "metadata": {},
   "outputs": [
    {
     "data": {
      "image/png": "[encoded data removed]",
      "text/plain": [
       "<Figure size 432x288 with 1 Axes>"
      ]
     },
     "metadata": {
      "needs_background": "light"
     },
     "output_type": "display_data"
    }
   ],
   "source": [
    "citations_top10_avg = {k:v for k,v in df_single_conference['AVG Citations'].sort_values(ascending=False).head(10).items()}\n",
    "citations_top10_avg_plot = sns.barplot(x=list(citations_top10_avg.values()), y=list(citations_top10_avg.keys()))"
   ]
  },
  {
   "cell_type": "markdown",
   "metadata": {},
   "source": [
    "#### Top 10 Considerations\n",
    "We can notice that the Top 10 Classification by total citations number is different from the Top 10 Classification by the AVG citations. \n",
    "\n",
    "It could be interesting to understand the density of the number of articles of each conference."
   ]
  },
  {
   "cell_type": "code",
   "execution_count": 24,
   "metadata": {},
   "outputs": [
    {
     "name": "stderr",
     "output_type": "stream",
     "text": [
      "/opt/homebrew/lib/python3.9/site-packages/seaborn/distributions.py:2619: FutureWarning: `distplot` is a deprecated function and will be removed in a future version. Please adapt your code to use either `displot` (a figure-level function with similar flexibility) or `histplot` (an axes-level function for histograms).\n",
      "  warnings.warn(msg, FutureWarning)\n"
     ]
    },
    {
     "data": {
      "image/png": "[encoded data removed]",
      "text/plain": [
       "<Figure size 432x288 with 1 Axes>"
      ]
     },
     "metadata": {
      "needs_background": "light"
     },
     "output_type": "display_data"
    }
   ],
   "source": [
    "article_by_conference_plot = sns.distplot([v for k,v in single_conference_count_article.items()])\n",
    "avg_article_by_conference = sum([v for k,v in single_conference_count_article.items()]) / len(single_conference_count_article)"
   ]
  },
  {
   "cell_type": "code",
   "execution_count": 25,
   "metadata": {},
   "outputs": [
    {
     "name": "stdout",
     "output_type": "stream",
     "text": [
      "AVG Articles by conference: 85.16439722164912\n"
     ]
    }
   ],
   "source": [
    "print(f\"AVG Articles by conference: {avg_article_by_conference}\")"
   ]
  },
  {
   "cell_type": "code",
   "execution_count": null,
   "metadata": {},
   "outputs": [],
   "source": []
  },
  {
   "cell_type": "code",
   "execution_count": null,
   "metadata": {},
   "outputs": [],
   "source": []
  },
  {
   "cell_type": "code",
   "execution_count": null,
   "metadata": {},
   "outputs": [],
   "source": []
  },
  {
   "cell_type": "code",
   "execution_count": null,
   "metadata": {},
   "outputs": [],
   "source": []
  },
  {
   "cell_type": "code",
   "execution_count": null,
   "metadata": {},
   "outputs": [],
   "source": []
  },
  {
   "cell_type": "markdown",
   "metadata": {},
   "source": [
    "## Separation of the \"Basic\" Citations and Locations Dataset"
   ]
  },
  {
   "cell_type": "code",
   "execution_count": null,
   "metadata": {},
   "outputs": [],
   "source": [
    "df_citations_and_locations.head(3)"
   ]
  },
  {
   "cell_type": "markdown",
   "metadata": {},
   "source": [
    "### COCI"
   ]
  },
  {
   "cell_type": "markdown",
   "metadata": {},
   "source": [
    "First of all, we're going to create a copy of our dataframe:"
   ]
  },
  {
   "cell_type": "code",
   "execution_count": null,
   "metadata": {},
   "outputs": [],
   "source": [
    "df_citations_and_locations_separated = df_citations_and_locations.copy()"
   ]
  },
  {
   "cell_type": "markdown",
   "metadata": {},
   "source": [
    "Now we're going to drop the MAG citation count."
   ]
  },
  {
   "cell_type": "code",
   "execution_count": null,
   "metadata": {},
   "outputs": [],
   "source": [
    "df_citations_and_locations_separated = df_citations_and_locations_separated.drop(columns=['CitationCount_Mag', 'CitationCount_MagEstimated'])"
   ]
  },
  {
   "cell_type": "markdown",
   "metadata": {},
   "source": [
    "Rename of the citation column"
   ]
  },
  {
   "cell_type": "code",
   "execution_count": null,
   "metadata": {},
   "outputs": [],
   "source": [
    "df_citations_and_locations_separated = df_citations_and_locations_separated.rename(columns={'CitationCount_COCI': 'CitationCount'})\n",
    "df_citations_and_locations_separated.head(3)"
   ]
  },
  {
   "cell_type": "markdown",
   "metadata": {},
   "source": [
    "Saving the resulting dataframe on disk in CSV format."
   ]
  },
  {
   "cell_type": "code",
   "execution_count": null,
   "metadata": {},
   "outputs": [],
   "source": [
    "df_citations_and_locations_separated.to_csv(path_file_export + 'out_COCI_citations_and_locations_analysis_ready.csv')\n",
    "print(f'Successfully Exported the COCI CSV to {path_file_export}out_COCI_citations_and_locations_analysis_ready.csv')"
   ]
  },
  {
   "cell_type": "markdown",
   "metadata": {},
   "source": [
    "### MAG"
   ]
  },
  {
   "cell_type": "markdown",
   "metadata": {},
   "source": [
    "First of all, we're going to create a copy of our dataframe:"
   ]
  },
  {
   "cell_type": "code",
   "execution_count": null,
   "metadata": {},
   "outputs": [],
   "source": [
    "df_citations_and_locations_separated = df_citations_and_locations.copy()"
   ]
  },
  {
   "cell_type": "markdown",
   "metadata": {},
   "source": [
    "Now we're going to drop the COCI citation count and of the MAG estimated count."
   ]
  },
  {
   "cell_type": "code",
   "execution_count": null,
   "metadata": {},
   "outputs": [],
   "source": [
    "df_citations_and_locations_separated = df_citations_and_locations_separated.drop(columns=['CitationCount_COCI', 'CitationCount_MagEstimated'])"
   ]
  },
  {
   "cell_type": "markdown",
   "metadata": {},
   "source": [
    "Rename of the citation column"
   ]
  },
  {
   "cell_type": "code",
   "execution_count": null,
   "metadata": {},
   "outputs": [],
   "source": [
    "df_citations_and_locations_separated = df_citations_and_locations_separated.rename(columns={'CitationCount_Mag': 'CitationCount'})\n",
    "df_citations_and_locations_separated.head(3)"
   ]
  },
  {
   "cell_type": "markdown",
   "metadata": {},
   "source": [
    "Saving the resulting dataframe on disk in CSV format."
   ]
  },
  {
   "cell_type": "code",
   "execution_count": null,
   "metadata": {},
   "outputs": [],
   "source": [
    "df_citations_and_locations_separated.to_csv(path_file_export + 'out_MAG_citations_and_locations_analysis_ready.csv')\n",
    "print(f'Successfully Exported the MAG CSV to {path_file_export}out_MAG_citations_and_locations_analysis_ready.csv')"
   ]
  },
  {
   "cell_type": "markdown",
   "metadata": {},
   "source": [
    "### MAG Estimated"
   ]
  },
  {
   "cell_type": "markdown",
   "metadata": {},
   "source": [
    "First of all, we're going to create a copy of our dataframe:"
   ]
  },
  {
   "cell_type": "code",
   "execution_count": null,
   "metadata": {},
   "outputs": [],
   "source": [
    "df_citations_and_locations_separated = df_citations_and_locations.copy()"
   ]
  },
  {
   "cell_type": "markdown",
   "metadata": {},
   "source": [
    "Now we're going to drop the COCI and MAG citation count."
   ]
  },
  {
   "cell_type": "code",
   "execution_count": null,
   "metadata": {},
   "outputs": [],
   "source": [
    "df_citations_and_locations_separated = df_citations_and_locations_separated.drop(columns=['CitationCount_Mag', 'CitationCount_COCI'])"
   ]
  },
  {
   "cell_type": "markdown",
   "metadata": {},
   "source": [
    "Rename of the citation column"
   ]
  },
  {
   "cell_type": "code",
   "execution_count": null,
   "metadata": {},
   "outputs": [],
   "source": [
    "df_citations_and_locations_separated = df_citations_and_locations_separated.rename(columns={'CitationCount_MagEstimated': 'CitationCount'})\n",
    "df_citations_and_locations_separated.head(3)"
   ]
  },
  {
   "cell_type": "markdown",
   "metadata": {},
   "source": [
    "Saving the resulting dataframe on disk in CSV format."
   ]
  },
  {
   "cell_type": "code",
   "execution_count": null,
   "metadata": {},
   "outputs": [],
   "source": [
    "df_citations_and_locations_separated.to_csv(path_file_export + 'out_MAG_Estimated_citations_and_locations_analysis_ready.csv')\n",
    "print(f'Successfully Exported the MAG Estimated CSV to {path_file_export}out_MAG_Estimated_citations_and_locations_analysis_ready.csv')"
   ]
  },
  {
   "cell_type": "markdown",
   "metadata": {},
   "source": [
    "## Preparation of the COCI Citations by Year and Locations Dataset"
   ]
  },
  {
   "cell_type": "code",
   "execution_count": null,
   "metadata": {},
   "outputs": [],
   "source": [
    "df_citations_by_year_and_locations.head(3)"
   ]
  },
  {
   "cell_type": "markdown",
   "metadata": {},
   "source": [
    "Here you can specify how the range of years that you want to consider for each paper. Only the citations obtained in those years are going to be counted.\n",
    "\n",
    "**Note**: the year are counted from the year of publication (included)"
   ]
  },
  {
   "cell_type": "code",
   "execution_count": null,
   "metadata": {},
   "outputs": [],
   "source": [
    "years_to_consider = 5"
   ]
  },
  {
   "cell_type": "markdown",
   "metadata": {},
   "source": [
    "### Drop of the too Recents Papers\n",
    "Drop of the papers published after acutal year - years_to_consider."
   ]
  },
  {
   "cell_type": "code",
   "execution_count": null,
   "metadata": {},
   "outputs": [],
   "source": [
    "actual_year = date.today().year"
   ]
  },
  {
   "cell_type": "code",
   "execution_count": null,
   "metadata": {},
   "outputs": [],
   "source": [
    "df_citations_by_year_and_locations = df_citations_by_year_and_locations.drop(df_citations_by_year_and_locations[df_citations_by_year_and_locations.Year > actual_year - years_to_consider].index)"
   ]
  },
  {
   "cell_type": "markdown",
   "metadata": {},
   "source": [
    "Reset the iindexes after the drop:"
   ]
  },
  {
   "cell_type": "code",
   "execution_count": null,
   "metadata": {},
   "outputs": [],
   "source": [
    "df_citations_by_year_and_locations = df_citations_by_year_and_locations.reset_index(drop=True)"
   ]
  },
  {
   "cell_type": "markdown",
   "metadata": {},
   "source": [
    "### Group and Count of the Papers Citations of the Selected Years"
   ]
  },
  {
   "cell_type": "code",
   "execution_count": null,
   "metadata": {},
   "outputs": [],
   "source": [
    "# Creation of the new column\n",
    "df_citations_by_year_and_locations.CitationCount = np.nan\n",
    "\n",
    "for index, row in df_citations_by_year_and_locations.iterrows():\n",
    "    citation_sum = 0\n",
    "\n",
    "    start_year = int(row['Year'])\n",
    "    for year in range(start_year, start_year + years_to_consider):\n",
    "        citation_sum += row[str(year)]\n",
    "\n",
    "    df_citations_by_year_and_locations.at[index, 'CitationCount'] = citation_sum"
   ]
  },
  {
   "cell_type": "markdown",
   "metadata": {},
   "source": [
    "Fix of the column type:"
   ]
  },
  {
   "cell_type": "code",
   "execution_count": null,
   "metadata": {},
   "outputs": [],
   "source": [
    "df_citations_by_year_and_locations = df_citations_by_year_and_locations.astype({'CitationCount': int})\n",
    "df_citations_by_year_and_locations.head(3)"
   ]
  },
  {
   "cell_type": "markdown",
   "metadata": {},
   "source": [
    "Drop of the yearly citations columns:"
   ]
  },
  {
   "cell_type": "code",
   "execution_count": null,
   "metadata": {},
   "outputs": [],
   "source": [
    "df_citations_by_year_and_locations = df_citations_by_year_and_locations.drop(df_citations_by_year_and_locations.columns.difference([\"ConferenceLocation\", 'ConferenceNormalizedName', 'ConferenceSeriesNormalizedName', 'Doi', 'Year', 'CitationCount']), axis=1)\n",
    "\n",
    "# column sort\n",
    "df_citations_by_year_and_locations = df_citations_by_year_and_locations.reindex(sorted(df_citations_by_year_and_locations.columns), axis=1)\n",
    "\n",
    "df_citations_by_year_and_locations.head(3)"
   ]
  },
  {
   "cell_type": "markdown",
   "metadata": {},
   "source": [
    "Saving the resulting dataframe on disk in CSV format."
   ]
  },
  {
   "cell_type": "code",
   "execution_count": null,
   "metadata": {},
   "outputs": [],
   "source": [
    "df_citations_by_year_and_locations.to_csv(path_file_export + 'out_COCI_citations_of_selected_period_and_locations_analysis_ready.csv')\n",
    "print(f'Successfully Exported the COCI by Year CSV to {path_file_export}out_COCI_citations_of_selected_period_and_locations_analysis_ready.csv')"
   ]
  }
 ],
 "metadata": {
  "interpreter": {
   "hash": "b0fa6594d8f4cbf19f97940f81e996739fb7646882a419484c72d19e05852a7e"
  },
  "kernelspec": {
   "display_name": "Python 3.9.12 64-bit",
   "name": "python3"
  },
  "language_info": {
   "codemirror_mode": {
    "name": "ipython",
    "version": 3
   },
   "file_extension": ".py",
   "mimetype": "text/x-python",
   "name": "python",
   "nbconvert_exporter": "python",
   "pygments_lexer": "ipython3",
   "version": "3.9.13"
  },
  "orig_nbformat": 4
 },
 "nbformat": 4,
 "nbformat_minor": 2
}
