{
 "cells": [
  {
   "cell_type": "markdown",
   "metadata": {},
   "source": [
    "# Conference Names Fix\n",
    "\n",
    "Jupyter Notebook for the fix of some conference names special cases, that I didn't notice during the first processing and scraping operations.\n",
    "\n",
    "____________________________________________________________\n",
    "\n",
    "For this process, the following CSV files are needed: ```out_citations_and_conferences_location_ready_v2.csv``` and ```out_citations_by_year_and_conferences_location_ready_v2```. \n",
    "\n",
    "The above files must be generated running the Notebook ```1 - Citation and Locations Dataset Preparation.ipynb``` that is contained in the ```4 - Citation and Conference Locations Data Cleanup``` folder of this project."
   ]
  },
  {
   "cell_type": "code",
   "execution_count": 1,
   "metadata": {},
   "outputs": [],
   "source": [
    "# Libraries Import\n",
    "import pandas as pd\n",
    "import numpy as np\n",
    "\n",
    "pd.set_option('display.max_columns', None)"
   ]
  },
  {
   "cell_type": "markdown",
   "metadata": {},
   "source": [
    "## File Paths\n",
    "Please set your working directory paths."
   ]
  },
  {
   "cell_type": "code",
   "execution_count": 2,
   "metadata": {},
   "outputs": [],
   "source": [
    "# ******************* PATHS ********************+\n",
    "\n",
    "# Dumps Directory Path\n",
    "path_file_import = r'/Users/marcoterzulli/File/Scuola Local/Magistrale/Materiale Corsi Attuali/Tirocinio/Cartella di Lavoro/Archivi Dump di Lavoro/Import/'\n",
    "\n",
    "# CSV Exports Directory Path\n",
    "path_file_export = r'/Users/marcoterzulli/File/Scuola Local/Magistrale/Materiale Corsi Attuali/Tirocinio/Cartella di Lavoro/Archivi Dump di Lavoro/Export/'"
   ]
  },
  {
   "cell_type": "markdown",
   "metadata": {},
   "source": [
    "## Import of the Datasets"
   ]
  },
  {
   "cell_type": "code",
   "execution_count": 7,
   "metadata": {},
   "outputs": [
    {
     "name": "stdout",
     "output_type": "stream",
     "text": [
      "Successfully Imported the Conference Citations and Locations Ready V2 CSV\n",
      "Successfully Imported the Conference Citations by Year and Locations Ready V2 CSV\n"
     ]
    }
   ],
   "source": [
    "df_citations_and_locations = pd.read_csv(path_file_export + 'out_citations_and_conferences_location_ready_v2.csv', low_memory=False, index_col=[0])\n",
    "print(f'Successfully Imported the Conference Citations and Locations Ready V2 CSV')\n",
    "\n",
    "df_citations_by_year_and_locations = pd.read_csv(path_file_export + 'out_citations_by_year_and_conferences_location_ready_v2.csv', low_memory=False, index_col=[0])\n",
    "print(f'Successfully Imported the Conference Citations by Year and Locations Ready V2 CSV')"
   ]
  },
  {
   "cell_type": "markdown",
   "metadata": {},
   "source": [
    "## Fix of the Conference Names Containing the ' Character"
   ]
  },
  {
   "cell_type": "code",
   "execution_count": 8,
   "metadata": {},
   "outputs": [],
   "source": [
    "# Fix of the ConferenceNormalizedName\n",
    "df_citations_and_locations.ConferenceNormalizedName = df_citations_and_locations.ConferenceNormalizedName.str.split(' ').str[0].str.split(\"'\").str[0] + ' ' + df_citations_and_locations.ConferenceNormalizedName.str.split(' ').str[1]\n",
    "df_citations_by_year_and_locations.ConferenceNormalizedName = df_citations_by_year_and_locations.ConferenceNormalizedName.str.split(' ').str[0].str.split(\"'\").str[0] + ' ' + df_citations_by_year_and_locations.ConferenceNormalizedName.str.split(' ').str[1]\n",
    "\n",
    "# Fix of the ConferenceSeriesNormalizedName\n",
    "df_citations_and_locations.ConferenceSeriesNormalizedName = df_citations_and_locations.ConferenceSeriesNormalizedName.str.split(\"'\").str[0]\n",
    "df_citations_by_year_and_locations.ConferenceSeriesNormalizedName = df_citations_by_year_and_locations.ConferenceSeriesNormalizedName.str.split(\"'\").str[0]"
   ]
  },
  {
   "cell_type": "markdown",
   "metadata": {},
   "source": [
    "Check of the result:"
   ]
  },
  {
   "cell_type": "code",
   "execution_count": 12,
   "metadata": {},
   "outputs": [
    {
     "data": {
      "text/html": [
       "<div>\n",
       "<style scoped>\n",
       "    .dataframe tbody tr th:only-of-type {\n",
       "        vertical-align: middle;\n",
       "    }\n",
       "\n",
       "    .dataframe tbody tr th {\n",
       "        vertical-align: top;\n",
       "    }\n",
       "\n",
       "    .dataframe thead th {\n",
       "        text-align: right;\n",
       "    }\n",
       "</style>\n",
       "<table border=\"1\" class=\"dataframe\">\n",
       "  <thead>\n",
       "    <tr style=\"text-align: right;\">\n",
       "      <th></th>\n",
       "      <th>CitationCount_COCI</th>\n",
       "      <th>CitationCount_Mag</th>\n",
       "      <th>CitationCount_MagEstimated</th>\n",
       "      <th>ConferenceLocation</th>\n",
       "      <th>ConferenceNormalizedName</th>\n",
       "      <th>ConferenceSeriesNormalizedName</th>\n",
       "      <th>Doi</th>\n",
       "      <th>Year</th>\n",
       "    </tr>\n",
       "  </thead>\n",
       "  <tbody>\n",
       "    <tr>\n",
       "      <th>0</th>\n",
       "      <td>10</td>\n",
       "      <td>12</td>\n",
       "      <td>12</td>\n",
       "      <td>Austin, Texas, United States</td>\n",
       "      <td>disc 2014</td>\n",
       "      <td>disc</td>\n",
       "      <td>10.1007/978-3-662-45174-8_28</td>\n",
       "      <td>2014</td>\n",
       "    </tr>\n",
       "    <tr>\n",
       "      <th>1</th>\n",
       "      <td>5</td>\n",
       "      <td>10</td>\n",
       "      <td>10</td>\n",
       "      <td>Wrocław, Lower Silesian Voivodeship, Poland</td>\n",
       "      <td>esa 2014</td>\n",
       "      <td>esa</td>\n",
       "      <td>10.1007/978-3-662-44777-2_60</td>\n",
       "      <td>2014</td>\n",
       "    </tr>\n",
       "    <tr>\n",
       "      <th>2</th>\n",
       "      <td>11</td>\n",
       "      <td>20</td>\n",
       "      <td>20</td>\n",
       "      <td>Innsbruck, Tyrol, Austria</td>\n",
       "      <td>enter 2013</td>\n",
       "      <td>enter</td>\n",
       "      <td>10.1007/978-3-319-03973-2_13</td>\n",
       "      <td>2013</td>\n",
       "    </tr>\n",
       "    <tr>\n",
       "      <th>3</th>\n",
       "      <td>1</td>\n",
       "      <td>0</td>\n",
       "      <td>0</td>\n",
       "      <td>Villefranche-sur-Saône, Auvergne-Rhône-Alpes, ...</td>\n",
       "      <td>dexa 2002</td>\n",
       "      <td>dexa</td>\n",
       "      <td>10.1007/3-540-46146-9_77</td>\n",
       "      <td>2002</td>\n",
       "    </tr>\n",
       "    <tr>\n",
       "      <th>4</th>\n",
       "      <td>9</td>\n",
       "      <td>19</td>\n",
       "      <td>19</td>\n",
       "      <td>Zakopane, Lesser Poland Voivodeship, Poland</td>\n",
       "      <td>icaisc 2006</td>\n",
       "      <td>icaisc</td>\n",
       "      <td>10.1007/11785231_94</td>\n",
       "      <td>2006</td>\n",
       "    </tr>\n",
       "    <tr>\n",
       "      <th>...</th>\n",
       "      <td>...</td>\n",
       "      <td>...</td>\n",
       "      <td>...</td>\n",
       "      <td>...</td>\n",
       "      <td>...</td>\n",
       "      <td>...</td>\n",
       "      <td>...</td>\n",
       "      <td>...</td>\n",
       "    </tr>\n",
       "    <tr>\n",
       "      <th>3107878</th>\n",
       "      <td>4</td>\n",
       "      <td>0</td>\n",
       "      <td>0</td>\n",
       "      <td>Thessaloniki, Macedonia and Thrace, Greece</td>\n",
       "      <td>sapere 2011</td>\n",
       "      <td>sapere</td>\n",
       "      <td>10.1007/978-3-642-31674-6_9</td>\n",
       "      <td>2011</td>\n",
       "    </tr>\n",
       "    <tr>\n",
       "      <th>3107879</th>\n",
       "      <td>4</td>\n",
       "      <td>0</td>\n",
       "      <td>0</td>\n",
       "      <td>Thessaloniki, Macedonia and Thrace, Greece</td>\n",
       "      <td>sapere 2011</td>\n",
       "      <td>sapere</td>\n",
       "      <td>10.1007/978-3-642-31674-6_20</td>\n",
       "      <td>2011</td>\n",
       "    </tr>\n",
       "    <tr>\n",
       "      <th>3107880</th>\n",
       "      <td>2</td>\n",
       "      <td>0</td>\n",
       "      <td>0</td>\n",
       "      <td>Thessaloniki, Macedonia and Thrace, Greece</td>\n",
       "      <td>sapere 2011</td>\n",
       "      <td>sapere</td>\n",
       "      <td>10.1007/978-3-642-31674-6_25</td>\n",
       "      <td>2011</td>\n",
       "    </tr>\n",
       "    <tr>\n",
       "      <th>3107881</th>\n",
       "      <td>0</td>\n",
       "      <td>0</td>\n",
       "      <td>0</td>\n",
       "      <td>Thessaloniki, Macedonia and Thrace, Greece</td>\n",
       "      <td>sapere 2011</td>\n",
       "      <td>sapere</td>\n",
       "      <td>10.1007/978-3-642-31674-6_12</td>\n",
       "      <td>2011</td>\n",
       "    </tr>\n",
       "    <tr>\n",
       "      <th>3107882</th>\n",
       "      <td>3</td>\n",
       "      <td>0</td>\n",
       "      <td>0</td>\n",
       "      <td>Thessaloniki, Macedonia and Thrace, Greece</td>\n",
       "      <td>sapere 2011</td>\n",
       "      <td>sapere</td>\n",
       "      <td>10.1007/978-3-642-31674-6_3</td>\n",
       "      <td>2011</td>\n",
       "    </tr>\n",
       "  </tbody>\n",
       "</table>\n",
       "<p>3107883 rows × 8 columns</p>\n",
       "</div>"
      ],
      "text/plain": [
       "         CitationCount_COCI  CitationCount_Mag  CitationCount_MagEstimated  \\\n",
       "0                        10                 12                          12   \n",
       "1                         5                 10                          10   \n",
       "2                        11                 20                          20   \n",
       "3                         1                  0                           0   \n",
       "4                         9                 19                          19   \n",
       "...                     ...                ...                         ...   \n",
       "3107878                   4                  0                           0   \n",
       "3107879                   4                  0                           0   \n",
       "3107880                   2                  0                           0   \n",
       "3107881                   0                  0                           0   \n",
       "3107882                   3                  0                           0   \n",
       "\n",
       "                                        ConferenceLocation  \\\n",
       "0                             Austin, Texas, United States   \n",
       "1              Wrocław, Lower Silesian Voivodeship, Poland   \n",
       "2                                Innsbruck, Tyrol, Austria   \n",
       "3        Villefranche-sur-Saône, Auvergne-Rhône-Alpes, ...   \n",
       "4              Zakopane, Lesser Poland Voivodeship, Poland   \n",
       "...                                                    ...   \n",
       "3107878         Thessaloniki, Macedonia and Thrace, Greece   \n",
       "3107879         Thessaloniki, Macedonia and Thrace, Greece   \n",
       "3107880         Thessaloniki, Macedonia and Thrace, Greece   \n",
       "3107881         Thessaloniki, Macedonia and Thrace, Greece   \n",
       "3107882         Thessaloniki, Macedonia and Thrace, Greece   \n",
       "\n",
       "        ConferenceNormalizedName ConferenceSeriesNormalizedName  \\\n",
       "0                      disc 2014                           disc   \n",
       "1                       esa 2014                            esa   \n",
       "2                     enter 2013                          enter   \n",
       "3                      dexa 2002                           dexa   \n",
       "4                    icaisc 2006                         icaisc   \n",
       "...                          ...                            ...   \n",
       "3107878              sapere 2011                         sapere   \n",
       "3107879              sapere 2011                         sapere   \n",
       "3107880              sapere 2011                         sapere   \n",
       "3107881              sapere 2011                         sapere   \n",
       "3107882              sapere 2011                         sapere   \n",
       "\n",
       "                                  Doi  Year  \n",
       "0        10.1007/978-3-662-45174-8_28  2014  \n",
       "1        10.1007/978-3-662-44777-2_60  2014  \n",
       "2        10.1007/978-3-319-03973-2_13  2013  \n",
       "3            10.1007/3-540-46146-9_77  2002  \n",
       "4                 10.1007/11785231_94  2006  \n",
       "...                               ...   ...  \n",
       "3107878   10.1007/978-3-642-31674-6_9  2011  \n",
       "3107879  10.1007/978-3-642-31674-6_20  2011  \n",
       "3107880  10.1007/978-3-642-31674-6_25  2011  \n",
       "3107881  10.1007/978-3-642-31674-6_12  2011  \n",
       "3107882   10.1007/978-3-642-31674-6_3  2011  \n",
       "\n",
       "[3107883 rows x 8 columns]"
      ]
     },
     "execution_count": 12,
     "metadata": {},
     "output_type": "execute_result"
    }
   ],
   "source": [
    "df_citations_and_locations"
   ]
  },
  {
   "cell_type": "code",
   "execution_count": 11,
   "metadata": {},
   "outputs": [
    {
     "data": {
      "text/html": [
       "<div>\n",
       "<style scoped>\n",
       "    .dataframe tbody tr th:only-of-type {\n",
       "        vertical-align: middle;\n",
       "    }\n",
       "\n",
       "    .dataframe tbody tr th {\n",
       "        vertical-align: top;\n",
       "    }\n",
       "\n",
       "    .dataframe thead th {\n",
       "        text-align: right;\n",
       "    }\n",
       "</style>\n",
       "<table border=\"1\" class=\"dataframe\">\n",
       "  <thead>\n",
       "    <tr style=\"text-align: right;\">\n",
       "      <th></th>\n",
       "      <th>CitationCount_COCI</th>\n",
       "      <th>CitationCount_Mag</th>\n",
       "      <th>CitationCount_MagEstimated</th>\n",
       "      <th>ConferenceLocation</th>\n",
       "      <th>ConferenceNormalizedName</th>\n",
       "      <th>ConferenceSeriesNormalizedName</th>\n",
       "      <th>Doi</th>\n",
       "      <th>Year</th>\n",
       "    </tr>\n",
       "  </thead>\n",
       "  <tbody>\n",
       "  </tbody>\n",
       "</table>\n",
       "</div>"
      ],
      "text/plain": [
       "Empty DataFrame\n",
       "Columns: [CitationCount_COCI, CitationCount_Mag, CitationCount_MagEstimated, ConferenceLocation, ConferenceNormalizedName, ConferenceSeriesNormalizedName, Doi, Year]\n",
       "Index: []"
      ]
     },
     "execution_count": 11,
     "metadata": {},
     "output_type": "execute_result"
    }
   ],
   "source": [
    "df_citations_and_locations.loc[df_citations_and_locations['ConferenceSeriesNormalizedName'].str.contains(\"'\", case=False)]"
   ]
  },
  {
   "cell_type": "markdown",
   "metadata": {},
   "source": [
    "## Write of the Final CSVs on Disk"
   ]
  },
  {
   "cell_type": "markdown",
   "metadata": {},
   "source": [
    "Saving the resulting dataframe on disk in CSV format."
   ]
  },
  {
   "cell_type": "code",
   "execution_count": 13,
   "metadata": {},
   "outputs": [
    {
     "name": "stdout",
     "output_type": "stream",
     "text": [
      "Successfully Exported the Fixed CSV to /Users/marcoterzulli/File/Scuola Local/Magistrale/Materiale Corsi Attuali/Tirocinio/Cartella di Lavoro/Archivi Dump di Lavoro/Export/out_citations_and_conferences_location_ready_v3.csv\n",
      "Successfully Exported the Fixed CSV to /Users/marcoterzulli/File/Scuola Local/Magistrale/Materiale Corsi Attuali/Tirocinio/Cartella di Lavoro/Archivi Dump di Lavoro/Export/out_citations_by_year_and_conferences_location_ready_v3.csv\n"
     ]
    }
   ],
   "source": [
    "# Write of the resulting CSVs on Disk\n",
    "df_citations_and_locations.to_csv(path_file_export + 'out_citations_and_conferences_location_ready_v3.csv')\n",
    "print(f'Successfully Exported the Fixed CSV to {path_file_export}out_citations_and_conferences_location_ready_v3.csv')\n",
    "\n",
    "df_citations_by_year_and_locations.to_csv(path_file_export + 'out_citations_by_year_and_conferences_location_ready_v3.csv')\n",
    "print(f'Successfully Exported the Fixed CSV to {path_file_export}out_citations_by_year_and_conferences_location_ready_v3.csv')"
   ]
  }
 ],
 "metadata": {
  "interpreter": {
   "hash": "b0fa6594d8f4cbf19f97940f81e996739fb7646882a419484c72d19e05852a7e"
  },
  "kernelspec": {
   "display_name": "Python 3.9.12 64-bit",
   "name": "python3"
  },
  "language_info": {
   "codemirror_mode": {
    "name": "ipython",
    "version": 3
   },
   "file_extension": ".py",
   "mimetype": "text/x-python",
   "name": "python",
   "nbconvert_exporter": "python",
   "pygments_lexer": "ipython3",
   "version": "3.9.13"
  },
  "orig_nbformat": 4
 },
 "nbformat": 4,
 "nbformat_minor": 2
}
