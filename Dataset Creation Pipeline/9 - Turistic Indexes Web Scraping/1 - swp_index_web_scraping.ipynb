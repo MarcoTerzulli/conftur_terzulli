{
 "cells": [
  {
   "cell_type": "markdown",
   "metadata": {},
   "source": [
    "# SWP Index Web Scraping\n",
    "\n",
    "Jupyter Notebook for the creation of the SWP Index with Web Scraping.\n",
    "\n",
    "SWP means Size of the Wikipedia Page, and it's an estimation of the importance of a city based on the lenght of its Wikipedia page.\n",
    "\n",
    "____________________________________________________________\n",
    "\n",
    "For this process, the following CSV files is needed: ```out_COCI_citations_and_locations_analysis_ready.csv```.\n",
    "\n",
    "The CSV file must be generated running the ```Citation Datasets Separation for the Analysis.ipynb``` Notebook that is contained in the ```8 - Citation Datasets Separation for the Analysis``` folder of this Repository.\n",
    "\n",
    "____________________________________________________________\n",
    "\n",
    "In particular, the following operations are going to be executed:\n",
    "* Opening of the CSV dataset\n",
    "* Extraction of the distinct cities\n",
    "* Web scraping of the wikipedia page's size\n",
    "\n",
    "Lastly, the entire processed dump is going to be saved on disk in CSV format"
   ]
  },
  {
   "cell_type": "code",
   "execution_count": 12,
   "metadata": {},
   "outputs": [],
   "source": [
    "# Libraries Import\n",
    "import pandas as pd\n",
    "import numpy as np\n",
    "import platform\n",
    "import multiprocessing as mp \n",
    "import concurrent       \n",
    "from turistic_scraper_multithread_utils import * \n",
    "\n",
    "pd.set_option('display.max_columns', None)"
   ]
  },
  {
   "cell_type": "markdown",
   "metadata": {},
   "source": [
    "## File Paths\n",
    "Please set your working directory paths."
   ]
  },
  {
   "cell_type": "code",
   "execution_count": 2,
   "metadata": {},
   "outputs": [],
   "source": [
    "# ******************* PATHS ********************+\n",
    "\n",
    "# Dumps Directory Path\n",
    "path_file_import = r'/Users/marcoterzulli/File/Scuola Local/Magistrale/Materiale Corsi Attuali/Tirocinio/Cartella di Lavoro/Archivi Dump di Lavoro/Import/'\n",
    "\n",
    "# CSV Exports Directory Path\n",
    "path_file_export = r'/Users/marcoterzulli/File/Scuola Local/Magistrale/Materiale Corsi Attuali/Tirocinio/Cartella di Lavoro/Archivi Dump di Lavoro/Export/'"
   ]
  },
  {
   "cell_type": "markdown",
   "metadata": {},
   "source": [
    "### Multithreading Settings\n",
    "Settings needed for the multithreaded queries to gather the size of the wikipedia pages.\n",
    "\n",
    "Please specify the max number of workers below:\n",
    "\n",
    "We suggest to **set the number of workers to 1 if you have a large bandwidth** (over 100Mbps) to limit the requests to the website. Otherwise, you could try to set a higher value to make requests in parallel."
   ]
  },
  {
   "cell_type": "code",
   "execution_count": 3,
   "metadata": {},
   "outputs": [],
   "source": [
    "MAX_WORKERS = 2"
   ]
  },
  {
   "cell_type": "markdown",
   "metadata": {},
   "source": [
    "You can also set a **sleep delay** (in seconds) between requests if that's not enough:"
   ]
  },
  {
   "cell_type": "code",
   "execution_count": 4,
   "metadata": {},
   "outputs": [],
   "source": [
    "SLEEP_DELAY = 0.2 # Seconds"
   ]
  },
  {
   "cell_type": "markdown",
   "metadata": {},
   "source": [
    "Special setting for the specific operating systems.\n",
    "\n",
    "**Note**: Due to the latest MacOS releases' security measures, we need to use the spawn method instead of fork."
   ]
  },
  {
   "cell_type": "code",
   "execution_count": 5,
   "metadata": {},
   "outputs": [
    {
     "name": "stdout",
     "output_type": "stream",
     "text": [
      "Notebook running on Darwin OS: \n",
      "Spawn method has been set\n"
     ]
    }
   ],
   "source": [
    "print(f\"Notebook running on {platform.system()} OS: \")\n",
    "\n",
    "if platform.system() == \"Darwin\" or platform.system() == \"Windows\": # MacOS and windows\n",
    "    mp_ctx = mp.get_context(\"spawn\")\n",
    "    print(\"Spawn method has been set\")\n",
    "    \n",
    "else: # other unix systems\n",
    "    mp_ctx = mp.get_context(\"fork\")\n",
    "    print(\"Fork method has been set\")"
   ]
  },
  {
   "cell_type": "markdown",
   "metadata": {},
   "source": [
    "## Read of the CSV Dataset"
   ]
  },
  {
   "cell_type": "code",
   "execution_count": 6,
   "metadata": {},
   "outputs": [
    {
     "data": {
      "text/html": [
       "<div>\n",
       "<style scoped>\n",
       "    .dataframe tbody tr th:only-of-type {\n",
       "        vertical-align: middle;\n",
       "    }\n",
       "\n",
       "    .dataframe tbody tr th {\n",
       "        vertical-align: top;\n",
       "    }\n",
       "\n",
       "    .dataframe thead th {\n",
       "        text-align: right;\n",
       "    }\n",
       "</style>\n",
       "<table border=\"1\" class=\"dataframe\">\n",
       "  <thead>\n",
       "    <tr style=\"text-align: right;\">\n",
       "      <th></th>\n",
       "      <th>CitationCount</th>\n",
       "      <th>ConferenceLocation</th>\n",
       "      <th>ConferenceNormalizedName</th>\n",
       "      <th>ConferenceSeriesNormalizedName</th>\n",
       "      <th>Doi</th>\n",
       "      <th>Year</th>\n",
       "    </tr>\n",
       "  </thead>\n",
       "  <tbody>\n",
       "    <tr>\n",
       "      <th>0</th>\n",
       "      <td>10</td>\n",
       "      <td>Austin, Texas, United States</td>\n",
       "      <td>disc 2014</td>\n",
       "      <td>disc</td>\n",
       "      <td>10.1007/978-3-662-45174-8_28</td>\n",
       "      <td>2014</td>\n",
       "    </tr>\n",
       "    <tr>\n",
       "      <th>1</th>\n",
       "      <td>5</td>\n",
       "      <td>Wrocław, Lower Silesian Voivodeship, Poland</td>\n",
       "      <td>esa 2014</td>\n",
       "      <td>esa</td>\n",
       "      <td>10.1007/978-3-662-44777-2_60</td>\n",
       "      <td>2014</td>\n",
       "    </tr>\n",
       "    <tr>\n",
       "      <th>2</th>\n",
       "      <td>11</td>\n",
       "      <td>Innsbruck, Tyrol, Austria</td>\n",
       "      <td>enter 2013</td>\n",
       "      <td>enter</td>\n",
       "      <td>10.1007/978-3-319-03973-2_13</td>\n",
       "      <td>2013</td>\n",
       "    </tr>\n",
       "    <tr>\n",
       "      <th>3</th>\n",
       "      <td>1</td>\n",
       "      <td>Villefranche-sur-Saône, Auvergne-Rhône-Alpes, ...</td>\n",
       "      <td>dexa 2002</td>\n",
       "      <td>dexa</td>\n",
       "      <td>10.1007/3-540-46146-9_77</td>\n",
       "      <td>2002</td>\n",
       "    </tr>\n",
       "    <tr>\n",
       "      <th>4</th>\n",
       "      <td>9</td>\n",
       "      <td>Zakopane, Lesser Poland Voivodeship, Poland</td>\n",
       "      <td>icaisc 2006</td>\n",
       "      <td>icaisc</td>\n",
       "      <td>10.1007/11785231_94</td>\n",
       "      <td>2006</td>\n",
       "    </tr>\n",
       "    <tr>\n",
       "      <th>...</th>\n",
       "      <td>...</td>\n",
       "      <td>...</td>\n",
       "      <td>...</td>\n",
       "      <td>...</td>\n",
       "      <td>...</td>\n",
       "      <td>...</td>\n",
       "    </tr>\n",
       "    <tr>\n",
       "      <th>3107878</th>\n",
       "      <td>4</td>\n",
       "      <td>Thessaloniki, Macedonia and Thrace, Greece</td>\n",
       "      <td>sapere 2011</td>\n",
       "      <td>sapere</td>\n",
       "      <td>10.1007/978-3-642-31674-6_9</td>\n",
       "      <td>2011</td>\n",
       "    </tr>\n",
       "    <tr>\n",
       "      <th>3107879</th>\n",
       "      <td>4</td>\n",
       "      <td>Thessaloniki, Macedonia and Thrace, Greece</td>\n",
       "      <td>sapere 2011</td>\n",
       "      <td>sapere</td>\n",
       "      <td>10.1007/978-3-642-31674-6_20</td>\n",
       "      <td>2011</td>\n",
       "    </tr>\n",
       "    <tr>\n",
       "      <th>3107880</th>\n",
       "      <td>2</td>\n",
       "      <td>Thessaloniki, Macedonia and Thrace, Greece</td>\n",
       "      <td>sapere 2011</td>\n",
       "      <td>sapere</td>\n",
       "      <td>10.1007/978-3-642-31674-6_25</td>\n",
       "      <td>2011</td>\n",
       "    </tr>\n",
       "    <tr>\n",
       "      <th>3107881</th>\n",
       "      <td>0</td>\n",
       "      <td>Thessaloniki, Macedonia and Thrace, Greece</td>\n",
       "      <td>sapere 2011</td>\n",
       "      <td>sapere</td>\n",
       "      <td>10.1007/978-3-642-31674-6_12</td>\n",
       "      <td>2011</td>\n",
       "    </tr>\n",
       "    <tr>\n",
       "      <th>3107882</th>\n",
       "      <td>3</td>\n",
       "      <td>Thessaloniki, Macedonia and Thrace, Greece</td>\n",
       "      <td>sapere 2011</td>\n",
       "      <td>sapere</td>\n",
       "      <td>10.1007/978-3-642-31674-6_3</td>\n",
       "      <td>2011</td>\n",
       "    </tr>\n",
       "  </tbody>\n",
       "</table>\n",
       "<p>3107883 rows × 6 columns</p>\n",
       "</div>"
      ],
      "text/plain": [
       "         CitationCount                                 ConferenceLocation  \\\n",
       "0                   10                       Austin, Texas, United States   \n",
       "1                    5        Wrocław, Lower Silesian Voivodeship, Poland   \n",
       "2                   11                          Innsbruck, Tyrol, Austria   \n",
       "3                    1  Villefranche-sur-Saône, Auvergne-Rhône-Alpes, ...   \n",
       "4                    9        Zakopane, Lesser Poland Voivodeship, Poland   \n",
       "...                ...                                                ...   \n",
       "3107878              4         Thessaloniki, Macedonia and Thrace, Greece   \n",
       "3107879              4         Thessaloniki, Macedonia and Thrace, Greece   \n",
       "3107880              2         Thessaloniki, Macedonia and Thrace, Greece   \n",
       "3107881              0         Thessaloniki, Macedonia and Thrace, Greece   \n",
       "3107882              3         Thessaloniki, Macedonia and Thrace, Greece   \n",
       "\n",
       "        ConferenceNormalizedName ConferenceSeriesNormalizedName  \\\n",
       "0                      disc 2014                           disc   \n",
       "1                       esa 2014                            esa   \n",
       "2                     enter 2013                          enter   \n",
       "3                      dexa 2002                           dexa   \n",
       "4                    icaisc 2006                         icaisc   \n",
       "...                          ...                            ...   \n",
       "3107878              sapere 2011                         sapere   \n",
       "3107879              sapere 2011                         sapere   \n",
       "3107880              sapere 2011                         sapere   \n",
       "3107881              sapere 2011                         sapere   \n",
       "3107882              sapere 2011                         sapere   \n",
       "\n",
       "                                  Doi  Year  \n",
       "0        10.1007/978-3-662-45174-8_28  2014  \n",
       "1        10.1007/978-3-662-44777-2_60  2014  \n",
       "2        10.1007/978-3-319-03973-2_13  2013  \n",
       "3            10.1007/3-540-46146-9_77  2002  \n",
       "4                 10.1007/11785231_94  2006  \n",
       "...                               ...   ...  \n",
       "3107878   10.1007/978-3-642-31674-6_9  2011  \n",
       "3107879  10.1007/978-3-642-31674-6_20  2011  \n",
       "3107880  10.1007/978-3-642-31674-6_25  2011  \n",
       "3107881  10.1007/978-3-642-31674-6_12  2011  \n",
       "3107882   10.1007/978-3-642-31674-6_3  2011  \n",
       "\n",
       "[3107883 rows x 6 columns]"
      ]
     },
     "execution_count": 6,
     "metadata": {},
     "output_type": "execute_result"
    }
   ],
   "source": [
    "df_coci_dataset = pd.read_csv(path_file_import + 'out_COCI_citations_and_locations_analysis_ready.csv', low_memory=False, index_col=[0])\n",
    "df_coci_dataset"
   ]
  },
  {
   "cell_type": "markdown",
   "metadata": {},
   "source": [
    "## Obtaining the Size of the Wikipedia Page\n",
    "The conferences locations are going to be obtained from queries to the Wikipedia Website."
   ]
  },
  {
   "cell_type": "markdown",
   "metadata": {},
   "source": [
    "First we need to obtain the distinct ciry names:"
   ]
  },
  {
   "cell_type": "code",
   "execution_count": 7,
   "metadata": {},
   "outputs": [
    {
     "data": {
      "text/html": [
       "<div>\n",
       "<style scoped>\n",
       "    .dataframe tbody tr th:only-of-type {\n",
       "        vertical-align: middle;\n",
       "    }\n",
       "\n",
       "    .dataframe tbody tr th {\n",
       "        vertical-align: top;\n",
       "    }\n",
       "\n",
       "    .dataframe thead th {\n",
       "        text-align: right;\n",
       "    }\n",
       "</style>\n",
       "<table border=\"1\" class=\"dataframe\">\n",
       "  <thead>\n",
       "    <tr style=\"text-align: right;\">\n",
       "      <th></th>\n",
       "      <th>ConferenceLocation</th>\n",
       "      <th>City</th>\n",
       "    </tr>\n",
       "  </thead>\n",
       "  <tbody>\n",
       "    <tr>\n",
       "      <th>0</th>\n",
       "      <td>Austin, Texas, United States</td>\n",
       "      <td>Austin</td>\n",
       "    </tr>\n",
       "    <tr>\n",
       "      <th>1</th>\n",
       "      <td>Wrocław, Lower Silesian Voivodeship, Poland</td>\n",
       "      <td>Wrocław</td>\n",
       "    </tr>\n",
       "    <tr>\n",
       "      <th>2</th>\n",
       "      <td>Innsbruck, Tyrol, Austria</td>\n",
       "      <td>Innsbruck</td>\n",
       "    </tr>\n",
       "    <tr>\n",
       "      <th>3</th>\n",
       "      <td>Villefranche-sur-Saône, Auvergne-Rhône-Alpes, ...</td>\n",
       "      <td>Villefranche-sur-Saône</td>\n",
       "    </tr>\n",
       "    <tr>\n",
       "      <th>4</th>\n",
       "      <td>Zakopane, Lesser Poland Voivodeship, Poland</td>\n",
       "      <td>Zakopane</td>\n",
       "    </tr>\n",
       "    <tr>\n",
       "      <th>...</th>\n",
       "      <td>...</td>\n",
       "      <td>...</td>\n",
       "    </tr>\n",
       "    <tr>\n",
       "      <th>3103379</th>\n",
       "      <td>Veneto, Italy</td>\n",
       "      <td>Veneto</td>\n",
       "    </tr>\n",
       "    <tr>\n",
       "      <th>3103468</th>\n",
       "      <td>Bastia, Corsica, France</td>\n",
       "      <td>Bastia</td>\n",
       "    </tr>\n",
       "    <tr>\n",
       "      <th>3103514</th>\n",
       "      <td>Laramie, Wyoming, United States</td>\n",
       "      <td>Laramie</td>\n",
       "    </tr>\n",
       "    <tr>\n",
       "      <th>3103806</th>\n",
       "      <td>Longyearbyen, Norway</td>\n",
       "      <td>Longyearbyen</td>\n",
       "    </tr>\n",
       "    <tr>\n",
       "      <th>3106775</th>\n",
       "      <td>Shijiazhuang City, Hebei, China</td>\n",
       "      <td>Shijiazhuang</td>\n",
       "    </tr>\n",
       "  </tbody>\n",
       "</table>\n",
       "<p>2470 rows × 2 columns</p>\n",
       "</div>"
      ],
      "text/plain": [
       "                                        ConferenceLocation  \\\n",
       "0                             Austin, Texas, United States   \n",
       "1              Wrocław, Lower Silesian Voivodeship, Poland   \n",
       "2                                Innsbruck, Tyrol, Austria   \n",
       "3        Villefranche-sur-Saône, Auvergne-Rhône-Alpes, ...   \n",
       "4              Zakopane, Lesser Poland Voivodeship, Poland   \n",
       "...                                                    ...   \n",
       "3103379                                      Veneto, Italy   \n",
       "3103468                            Bastia, Corsica, France   \n",
       "3103514                    Laramie, Wyoming, United States   \n",
       "3103806                               Longyearbyen, Norway   \n",
       "3106775                    Shijiazhuang City, Hebei, China   \n",
       "\n",
       "                           City  \n",
       "0                        Austin  \n",
       "1                       Wrocław  \n",
       "2                     Innsbruck  \n",
       "3        Villefranche-sur-Saône  \n",
       "4                      Zakopane  \n",
       "...                         ...  \n",
       "3103379                  Veneto  \n",
       "3103468                  Bastia  \n",
       "3103514                 Laramie  \n",
       "3103806            Longyearbyen  \n",
       "3106775            Shijiazhuang  \n",
       "\n",
       "[2470 rows x 2 columns]"
      ]
     },
     "execution_count": 7,
     "metadata": {},
     "output_type": "execute_result"
    }
   ],
   "source": [
    "df_cities = df_coci_dataset['ConferenceLocation'].copy().to_frame()\n",
    "df_cities = df_cities.drop_duplicates()\n",
    "\n",
    "df_cities[\"City\"] = np.nan\n",
    "\n",
    "df_cities.City = df_cities.ConferenceLocation.str.split(',').str[0].str.split(' ').str[0]\n",
    "df_cities = df_cities.drop_duplicates()\n",
    "\n",
    "df_cities"
   ]
  },
  {
   "cell_type": "markdown",
   "metadata": {},
   "source": [
    "### Define of the Web Scraping Function\n",
    "The web function is going to be passed as parameter."
   ]
  },
  {
   "cell_type": "code",
   "execution_count": 13,
   "metadata": {},
   "outputs": [],
   "source": [
    "def swp_scraper(cities_dataframe, mt_downloader_operation_function, wikipedia_url = \"https://en.wikipedia.org/wiki/\"):\n",
    "    dict_city_swp = {}      \n",
    "    download_list = zip(list(cities_dataframe.ConferenceLocation.values), list(cities_dataframe.City.values))\n",
    "\n",
    "    executor = concurrent.futures.ProcessPoolExecutor(max_workers=int(MAX_WORKERS), mp_context=mp_ctx)\n",
    "    futures = [executor.submit(mt_downloader_operation_function, conf_location, wikipedia_url, SLEEP_DELAY) for conf_location in download_list]\n",
    "\n",
    "    for future in concurrent.futures.as_completed(futures):\n",
    "        try:\n",
    "            k, v = future.result()\n",
    "        except Exception as e:\n",
    "            print(f\"{futures[future]} throws {e}\")\n",
    "        else:\n",
    "            dict_city_swp[k] = v\n",
    "\n",
    "    # Converting the resulting dictionary to a dataframe\n",
    "    df_city_swp = pd.DataFrame(dict_city_swp.items(), columns=['Location', 'SWP'])\n",
    "\n",
    "    return df_city_swp"
   ]
  },
  {
   "cell_type": "markdown",
   "metadata": {},
   "source": [
    "#### Queries to the DBLP Website"
   ]
  },
  {
   "cell_type": "markdown",
   "metadata": {},
   "source": [
    "Parallel execution of the queries to the Wikipedia website.\n",
    "\n",
    "**Note**: this operation should take less than a 5 minutes, depending on your Internet speed."
   ]
  },
  {
   "cell_type": "code",
   "execution_count": 14,
   "metadata": {},
   "outputs": [],
   "source": [
    "df_city_swp = swp_scraper(df_cities, mt_get_city_swp_operation_v1, \"https://en.wikipedia.org/wiki/\")"
   ]
  },
  {
   "cell_type": "code",
   "execution_count": 15,
   "metadata": {},
   "outputs": [
    {
     "data": {
      "text/html": [
       "<div>\n",
       "<style scoped>\n",
       "    .dataframe tbody tr th:only-of-type {\n",
       "        vertical-align: middle;\n",
       "    }\n",
       "\n",
       "    .dataframe tbody tr th {\n",
       "        vertical-align: top;\n",
       "    }\n",
       "\n",
       "    .dataframe thead th {\n",
       "        text-align: right;\n",
       "    }\n",
       "</style>\n",
       "<table border=\"1\" class=\"dataframe\">\n",
       "  <thead>\n",
       "    <tr style=\"text-align: right;\">\n",
       "      <th></th>\n",
       "      <th>Location</th>\n",
       "      <th>SWP</th>\n",
       "    </tr>\n",
       "  </thead>\n",
       "  <tbody>\n",
       "    <tr>\n",
       "      <th>0</th>\n",
       "      <td>(Austin, Texas, United States, Austin)</td>\n",
       "      <td>178769</td>\n",
       "    </tr>\n",
       "    <tr>\n",
       "      <th>1</th>\n",
       "      <td>(Wrocław, Lower Silesian Voivodeship, Poland, ...</td>\n",
       "      <td>136404</td>\n",
       "    </tr>\n",
       "    <tr>\n",
       "      <th>2</th>\n",
       "      <td>(Innsbruck, Tyrol, Austria, Innsbruck)</td>\n",
       "      <td>73456</td>\n",
       "    </tr>\n",
       "    <tr>\n",
       "      <th>3</th>\n",
       "      <td>(Villefranche-sur-Saône, Auvergne-Rhône-Alpes,...</td>\n",
       "      <td>27815</td>\n",
       "    </tr>\n",
       "    <tr>\n",
       "      <th>4</th>\n",
       "      <td>(Zakopane, Lesser Poland Voivodeship, Poland, ...</td>\n",
       "      <td>43925</td>\n",
       "    </tr>\n",
       "    <tr>\n",
       "      <th>...</th>\n",
       "      <td>...</td>\n",
       "      <td>...</td>\n",
       "    </tr>\n",
       "    <tr>\n",
       "      <th>2465</th>\n",
       "      <td>(Veneto, Italy, Veneto)</td>\n",
       "      <td>93437</td>\n",
       "    </tr>\n",
       "    <tr>\n",
       "      <th>2466</th>\n",
       "      <td>(Bastia, Corsica, France, Bastia)</td>\n",
       "      <td>64516</td>\n",
       "    </tr>\n",
       "    <tr>\n",
       "      <th>2467</th>\n",
       "      <td>(Laramie, Wyoming, United States, Laramie)</td>\n",
       "      <td>10391</td>\n",
       "    </tr>\n",
       "    <tr>\n",
       "      <th>2468</th>\n",
       "      <td>(Longyearbyen, Norway, Longyearbyen)</td>\n",
       "      <td>69379</td>\n",
       "    </tr>\n",
       "    <tr>\n",
       "      <th>2469</th>\n",
       "      <td>(Shijiazhuang City, Hebei, China, Shijiazhuang)</td>\n",
       "      <td>87346</td>\n",
       "    </tr>\n",
       "  </tbody>\n",
       "</table>\n",
       "<p>2470 rows × 2 columns</p>\n",
       "</div>"
      ],
      "text/plain": [
       "                                               Location     SWP\n",
       "0                (Austin, Texas, United States, Austin)  178769\n",
       "1     (Wrocław, Lower Silesian Voivodeship, Poland, ...  136404\n",
       "2                (Innsbruck, Tyrol, Austria, Innsbruck)   73456\n",
       "3     (Villefranche-sur-Saône, Auvergne-Rhône-Alpes,...   27815\n",
       "4     (Zakopane, Lesser Poland Voivodeship, Poland, ...   43925\n",
       "...                                                 ...     ...\n",
       "2465                            (Veneto, Italy, Veneto)   93437\n",
       "2466                  (Bastia, Corsica, France, Bastia)   64516\n",
       "2467         (Laramie, Wyoming, United States, Laramie)   10391\n",
       "2468               (Longyearbyen, Norway, Longyearbyen)   69379\n",
       "2469    (Shijiazhuang City, Hebei, China, Shijiazhuang)   87346\n",
       "\n",
       "[2470 rows x 2 columns]"
      ]
     },
     "execution_count": 15,
     "metadata": {},
     "output_type": "execute_result"
    }
   ],
   "source": [
    "df_city_swp"
   ]
  },
  {
   "cell_type": "code",
   "execution_count": 18,
   "metadata": {},
   "outputs": [
    {
     "ename": "AttributeError",
     "evalue": "'Series' object has no attribute 'tuple'",
     "output_type": "error",
     "traceback": [
      "\u001b[0;31m---------------------------------------------------------------------------\u001b[0m",
      "\u001b[0;31mAttributeError\u001b[0m                            Traceback (most recent call last)",
      "\u001b[1;32m/Users/marcoterzulli/File/Scuola Local/Magistrale/Materiale Corsi Attuali/Tirocinio/Cartella di Lavoro/Repository Github/Repository Mio/conftur_terzulli/Dataset Creation Pipeline/9 - Turistic Indexes Web Scraping/1 - swp_index_web_scraping.ipynb Cella 22\u001b[0m in \u001b[0;36m<cell line: 4>\u001b[0;34m()\u001b[0m\n\u001b[1;32m      <a href='vscode-notebook-cell:/Users/marcoterzulli/File/Scuola%20Local/Magistrale/Materiale%20Corsi%20Attuali/Tirocinio/Cartella%20di%20Lavoro/Repository%20Github/Repository%20Mio/conftur_terzulli/Dataset%20Creation%20Pipeline/9%20-%20Turistic%20Indexes%20Web%20Scraping/1%20-%20swp_index_web_scraping.ipynb#ch0000044?line=0'>1</a>\u001b[0m df_city_swp[\u001b[39m\"\u001b[39m\u001b[39mConferenceLocation\u001b[39m\u001b[39m\"\u001b[39m] \u001b[39m=\u001b[39m np\u001b[39m.\u001b[39mnan\n\u001b[1;32m      <a href='vscode-notebook-cell:/Users/marcoterzulli/File/Scuola%20Local/Magistrale/Materiale%20Corsi%20Attuali/Tirocinio/Cartella%20di%20Lavoro/Repository%20Github/Repository%20Mio/conftur_terzulli/Dataset%20Creation%20Pipeline/9%20-%20Turistic%20Indexes%20Web%20Scraping/1%20-%20swp_index_web_scraping.ipynb#ch0000044?line=1'>2</a>\u001b[0m df_city_swp[\u001b[39m\"\u001b[39m\u001b[39mCity\u001b[39m\u001b[39m\"\u001b[39m] \u001b[39m=\u001b[39m np\u001b[39m.\u001b[39mnan\n\u001b[0;32m----> <a href='vscode-notebook-cell:/Users/marcoterzulli/File/Scuola%20Local/Magistrale/Materiale%20Corsi%20Attuali/Tirocinio/Cartella%20di%20Lavoro/Repository%20Github/Repository%20Mio/conftur_terzulli/Dataset%20Creation%20Pipeline/9%20-%20Turistic%20Indexes%20Web%20Scraping/1%20-%20swp_index_web_scraping.ipynb#ch0000044?line=3'>4</a>\u001b[0m df_city_swp\u001b[39m.\u001b[39mConferenceLocation \u001b[39m=\u001b[39m df_city_swp\u001b[39m.\u001b[39;49mLocation\u001b[39m.\u001b[39;49mtuple[\u001b[39m0\u001b[39m]\n\u001b[1;32m      <a href='vscode-notebook-cell:/Users/marcoterzulli/File/Scuola%20Local/Magistrale/Materiale%20Corsi%20Attuali/Tirocinio/Cartella%20di%20Lavoro/Repository%20Github/Repository%20Mio/conftur_terzulli/Dataset%20Creation%20Pipeline/9%20-%20Turistic%20Indexes%20Web%20Scraping/1%20-%20swp_index_web_scraping.ipynb#ch0000044?line=4'>5</a>\u001b[0m df_city_swp\u001b[39m.\u001b[39mCity \u001b[39m=\u001b[39m df_city_swp\u001b[39m.\u001b[39mLocation\u001b[39m.\u001b[39mtuple[\u001b[39m1\u001b[39m]\n\u001b[1;32m      <a href='vscode-notebook-cell:/Users/marcoterzulli/File/Scuola%20Local/Magistrale/Materiale%20Corsi%20Attuali/Tirocinio/Cartella%20di%20Lavoro/Repository%20Github/Repository%20Mio/conftur_terzulli/Dataset%20Creation%20Pipeline/9%20-%20Turistic%20Indexes%20Web%20Scraping/1%20-%20swp_index_web_scraping.ipynb#ch0000044?line=6'>7</a>\u001b[0m df_city_swp\n",
      "File \u001b[0;32m/opt/homebrew/lib/python3.9/site-packages/pandas/core/generic.py:5575\u001b[0m, in \u001b[0;36mNDFrame.__getattr__\u001b[0;34m(self, name)\u001b[0m\n\u001b[1;32m   5568\u001b[0m \u001b[39mif\u001b[39;00m (\n\u001b[1;32m   5569\u001b[0m     name \u001b[39mnot\u001b[39;00m \u001b[39min\u001b[39;00m \u001b[39mself\u001b[39m\u001b[39m.\u001b[39m_internal_names_set\n\u001b[1;32m   5570\u001b[0m     \u001b[39mand\u001b[39;00m name \u001b[39mnot\u001b[39;00m \u001b[39min\u001b[39;00m \u001b[39mself\u001b[39m\u001b[39m.\u001b[39m_metadata\n\u001b[1;32m   5571\u001b[0m     \u001b[39mand\u001b[39;00m name \u001b[39mnot\u001b[39;00m \u001b[39min\u001b[39;00m \u001b[39mself\u001b[39m\u001b[39m.\u001b[39m_accessors\n\u001b[1;32m   5572\u001b[0m     \u001b[39mand\u001b[39;00m \u001b[39mself\u001b[39m\u001b[39m.\u001b[39m_info_axis\u001b[39m.\u001b[39m_can_hold_identifiers_and_holds_name(name)\n\u001b[1;32m   5573\u001b[0m ):\n\u001b[1;32m   5574\u001b[0m     \u001b[39mreturn\u001b[39;00m \u001b[39mself\u001b[39m[name]\n\u001b[0;32m-> 5575\u001b[0m \u001b[39mreturn\u001b[39;00m \u001b[39mobject\u001b[39;49m\u001b[39m.\u001b[39;49m\u001b[39m__getattribute__\u001b[39;49m(\u001b[39mself\u001b[39;49m, name)\n",
      "\u001b[0;31mAttributeError\u001b[0m: 'Series' object has no attribute 'tuple'"
     ]
    }
   ],
   "source": [
    "df_city_swp[\"ConferenceLocation\"] = np.nan\n",
    "df_city_swp[\"City\"] = np.nan\n",
    "\n",
    "df_city_swp.ConferenceLocation = df_city_swp.Location.tuple[0]\n",
    "df_city_swp.City = df_city_swp.Location.tuple[1]\n",
    "\n",
    "df_city_swp"
   ]
  },
  {
   "cell_type": "markdown",
   "metadata": {},
   "source": [
    "Let's see how many conference locations have been fixed."
   ]
  },
  {
   "cell_type": "code",
   "execution_count": null,
   "metadata": {},
   "outputs": [],
   "source": [
    "df_conf_locations = df_conf_locations.dropna(subset = ['ConferenceLocation'])\n",
    "\n",
    "print(f\"Fixed {len(df_conf_locations.index)} over {len(df_dblp_conferences.index)} unique conferences\")"
   ]
  },
  {
   "cell_type": "markdown",
   "metadata": {},
   "source": [
    "## Join of the New Location Data with the Original Dataframe"
   ]
  },
  {
   "cell_type": "code",
   "execution_count": null,
   "metadata": {},
   "outputs": [],
   "source": [
    "# Merge with the location dataframe\n",
    "df_dblp_preprocessed = pd.merge(df_dblp_preprocessed, df_conf_locations, on=['url'], how='left')\n",
    "\n",
    "# Combine the two columns\n",
    "df_dblp_preprocessed['ConferenceLocation_x'] = df_dblp_preprocessed['ConferenceLocation_x'].fillna(df_dblp_preprocessed['ConferenceLocation_y'])\n",
    "df_dblp_preprocessed.rename(columns = {'ConferenceLocation_x':'ConferenceLocation'}, inplace=True)\n",
    "df_dblp_preprocessed = df_dblp_preprocessed.drop(columns=['ConferenceLocation_y'])\n",
    "\n",
    "df_dblp_preprocessed.iloc[:5]"
   ]
  },
  {
   "cell_type": "markdown",
   "metadata": {},
   "source": [
    "Count of how many paper's conference locations are still missing"
   ]
  },
  {
   "cell_type": "code",
   "execution_count": null,
   "metadata": {},
   "outputs": [],
   "source": [
    "n_missing = len(df_dblp_preprocessed.index) - len(df_dblp_preprocessed.dropna(subset = ['ConferenceLocation']).index)\n",
    "print(f\"{n_missing} missing paper's conference locations\")"
   ]
  },
  {
   "cell_type": "markdown",
   "metadata": {},
   "source": [
    "## Cleaning the Conference Locations\n",
    "Some conferences are divided in separated volumes. The volume number is usually indicated in the header of the DBLP page, following the conference location.\n",
    "\n",
    "For example: *OTM 2004: Agia Napa, Cyprus - Volume 2*\n",
    "\n",
    "We need to filter it."
   ]
  },
  {
   "cell_type": "code",
   "execution_count": null,
   "metadata": {},
   "outputs": [],
   "source": [
    "df_dblp_preprocessed.ConferenceLocation = df_dblp_preprocessed.ConferenceLocation.str.split(' - ').str[0]\n",
    "\n",
    "df_dblp_preprocessed.iloc[:5]"
   ]
  },
  {
   "cell_type": "markdown",
   "metadata": {},
   "source": [
    "## Write of the Final CSV on Disk"
   ]
  },
  {
   "cell_type": "markdown",
   "metadata": {},
   "source": [
    "Saving the resulting dataframe on disk in CSV format."
   ]
  },
  {
   "cell_type": "code",
   "execution_count": null,
   "metadata": {},
   "outputs": [],
   "source": [
    "# Write of the resulting CSV on Disk\n",
    "df_dblp_preprocessed.to_csv(path_file_export + 'out_dblp_papers_and_locations_final.csv')\n",
    "print(f'Successfully Exported the Preprocessed CSV to {path_file_export}out_dblp_papers_and_locations_final.csv')"
   ]
  },
  {
   "cell_type": "markdown",
   "metadata": {},
   "source": [
    "Check of the Exported CSV to be sure that everything went fine."
   ]
  },
  {
   "cell_type": "code",
   "execution_count": null,
   "metadata": {},
   "outputs": [],
   "source": [
    "# Check of the Exported CSV\n",
    "df_dblp_exported_csv = pd.read_csv(path_file_export + 'out_dblp_papers_and_locations_final.csv', low_memory=False, index_col=[0])\n",
    "df_dblp_exported_csv"
   ]
  },
  {
   "cell_type": "code",
   "execution_count": null,
   "metadata": {},
   "outputs": [],
   "source": []
  }
 ],
 "metadata": {
  "interpreter": {
   "hash": "b0fa6594d8f4cbf19f97940f81e996739fb7646882a419484c72d19e05852a7e"
  },
  "kernelspec": {
   "display_name": "Python 3.9.12 64-bit",
   "name": "python3"
  },
  "language_info": {
   "codemirror_mode": {
    "name": "ipython",
    "version": 3
   },
   "file_extension": ".py",
   "mimetype": "text/x-python",
   "name": "python",
   "nbconvert_exporter": "python",
   "pygments_lexer": "ipython3",
   "version": "3.9.13"
  },
  "orig_nbformat": 4
 },
 "nbformat": 4,
 "nbformat_minor": 2
}
