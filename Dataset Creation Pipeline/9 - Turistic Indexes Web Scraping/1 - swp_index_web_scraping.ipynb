{
 "cells": [
  {
   "cell_type": "markdown",
   "metadata": {},
   "source": [
    "# SWP Index Web Scraping\n",
    "\n",
    "Jupyter Notebook for the creation of the SWP Index with Web Scraping.\n",
    "\n",
    "SWP means Size of the Wikipedia Page, and it's an estimation of the importance of a city based on the lenght of its Wikipedia page.\n",
    "\n",
    "____________________________________________________________\n",
    "\n",
    "For this process, the following CSV files is needed: ```out_COCI_citations_and_locations_analysis_ready.csv```.\n",
    "\n",
    "The CSV file must be generated running the ```Citation Datasets Separation for the Analysis.ipynb``` Notebook that is contained in the ```8 - Citation Datasets Separation for the Analysis``` folder of this Repository.\n",
    "\n",
    "____________________________________________________________\n",
    "\n",
    "In particular, the following operations are going to be executed:\n",
    "* Opening of the CSV dataset\n",
    "* Extraction of the distinct cities\n",
    "* Web scraping of the wikipedia page's size\n",
    "\n",
    "Lastly, the entire processed dump is going to be saved on disk in CSV format"
   ]
  },
  {
   "cell_type": "code",
   "execution_count": 1,
   "metadata": {},
   "outputs": [],
   "source": [
    "# Libraries Import\n",
    "import pandas as pd\n",
    "import numpy as np\n",
    "import platform\n",
    "import multiprocessing as mp \n",
    "import concurrent       \n",
    "from turistic_scraper_multithread_utils import * \n",
    "\n",
    "pd.set_option('display.max_columns', None)"
   ]
  },
  {
   "cell_type": "markdown",
   "metadata": {},
   "source": [
    "## File Paths\n",
    "Please set your working directory paths."
   ]
  },
  {
   "cell_type": "code",
   "execution_count": 2,
   "metadata": {},
   "outputs": [],
   "source": [
    "# ******************* PATHS ********************+\n",
    "\n",
    "# Dumps Directory Path\n",
    "path_file_import = r'/Users/marcoterzulli/File/Scuola Local/Magistrale/Materiale Corsi Attuali/Tirocinio/Cartella di Lavoro/Archivi Dump di Lavoro/Import/'\n",
    "\n",
    "# CSV Exports Directory Path\n",
    "path_file_export = r'/Users/marcoterzulli/File/Scuola Local/Magistrale/Materiale Corsi Attuali/Tirocinio/Cartella di Lavoro/Archivi Dump di Lavoro/Export/'"
   ]
  },
  {
   "cell_type": "markdown",
   "metadata": {},
   "source": [
    "### Multithreading Settings\n",
    "Settings needed for the multithreaded queries to gather the size of the wikipedia pages.\n",
    "\n",
    "Please specify the max number of workers below:\n",
    "\n",
    "We suggest to **set the number of workers to 1 if you have a large bandwidth** (over 100Mbps) to limit the requests to the website. Otherwise, you could try to set a higher value to make requests in parallel."
   ]
  },
  {
   "cell_type": "code",
   "execution_count": 3,
   "metadata": {},
   "outputs": [],
   "source": [
    "MAX_WORKERS = 4"
   ]
  },
  {
   "cell_type": "markdown",
   "metadata": {},
   "source": [
    "You can also set a **sleep delay** (in seconds) between requests if that's not enough:"
   ]
  },
  {
   "cell_type": "code",
   "execution_count": 4,
   "metadata": {},
   "outputs": [],
   "source": [
    "SLEEP_DELAY = 0.2 # Seconds"
   ]
  },
  {
   "cell_type": "markdown",
   "metadata": {},
   "source": [
    "Special setting for the specific operating systems.\n",
    "\n",
    "**Note**: Due to the latest MacOS releases' security measures, we need to use the spawn method instead of fork."
   ]
  },
  {
   "cell_type": "code",
   "execution_count": 5,
   "metadata": {},
   "outputs": [
    {
     "name": "stdout",
     "output_type": "stream",
     "text": [
      "Notebook running on Darwin OS: \n",
      "Spawn method has been set\n"
     ]
    }
   ],
   "source": [
    "print(f\"Notebook running on {platform.system()} OS: \")\n",
    "\n",
    "if platform.system() == \"Darwin\" or platform.system() == \"Windows\": # MacOS and windows\n",
    "    mp_ctx = mp.get_context(\"spawn\")\n",
    "    print(\"Spawn method has been set\")\n",
    "    \n",
    "else: # other unix systems\n",
    "    mp_ctx = mp.get_context(\"fork\")\n",
    "    print(\"Fork method has been set\")"
   ]
  },
  {
   "cell_type": "markdown",
   "metadata": {},
   "source": [
    "## Read of the CSV Dataset"
   ]
  },
  {
   "cell_type": "code",
   "execution_count": 6,
   "metadata": {},
   "outputs": [
    {
     "data": {
      "text/html": [
       "<div>\n",
       "<style scoped>\n",
       "    .dataframe tbody tr th:only-of-type {\n",
       "        vertical-align: middle;\n",
       "    }\n",
       "\n",
       "    .dataframe tbody tr th {\n",
       "        vertical-align: top;\n",
       "    }\n",
       "\n",
       "    .dataframe thead th {\n",
       "        text-align: right;\n",
       "    }\n",
       "</style>\n",
       "<table border=\"1\" class=\"dataframe\">\n",
       "  <thead>\n",
       "    <tr style=\"text-align: right;\">\n",
       "      <th></th>\n",
       "      <th>CitationCount</th>\n",
       "      <th>ConferenceLocation</th>\n",
       "      <th>ConferenceNormalizedName</th>\n",
       "      <th>ConferenceSeriesNormalizedName</th>\n",
       "      <th>Doi</th>\n",
       "      <th>Year</th>\n",
       "    </tr>\n",
       "  </thead>\n",
       "  <tbody>\n",
       "    <tr>\n",
       "      <th>0</th>\n",
       "      <td>10</td>\n",
       "      <td>Austin, Texas, United States</td>\n",
       "      <td>disc 2014</td>\n",
       "      <td>disc</td>\n",
       "      <td>10.1007/978-3-662-45174-8_28</td>\n",
       "      <td>2014</td>\n",
       "    </tr>\n",
       "    <tr>\n",
       "      <th>1</th>\n",
       "      <td>5</td>\n",
       "      <td>Wrocław, Lower Silesian Voivodeship, Poland</td>\n",
       "      <td>esa 2014</td>\n",
       "      <td>esa</td>\n",
       "      <td>10.1007/978-3-662-44777-2_60</td>\n",
       "      <td>2014</td>\n",
       "    </tr>\n",
       "    <tr>\n",
       "      <th>2</th>\n",
       "      <td>11</td>\n",
       "      <td>Innsbruck, Tyrol, Austria</td>\n",
       "      <td>enter 2013</td>\n",
       "      <td>enter</td>\n",
       "      <td>10.1007/978-3-319-03973-2_13</td>\n",
       "      <td>2013</td>\n",
       "    </tr>\n",
       "    <tr>\n",
       "      <th>3</th>\n",
       "      <td>1</td>\n",
       "      <td>Villefranche-sur-Saône, Auvergne-Rhône-Alpes, ...</td>\n",
       "      <td>dexa 2002</td>\n",
       "      <td>dexa</td>\n",
       "      <td>10.1007/3-540-46146-9_77</td>\n",
       "      <td>2002</td>\n",
       "    </tr>\n",
       "    <tr>\n",
       "      <th>4</th>\n",
       "      <td>9</td>\n",
       "      <td>Zakopane, Lesser Poland Voivodeship, Poland</td>\n",
       "      <td>icaisc 2006</td>\n",
       "      <td>icaisc</td>\n",
       "      <td>10.1007/11785231_94</td>\n",
       "      <td>2006</td>\n",
       "    </tr>\n",
       "    <tr>\n",
       "      <th>...</th>\n",
       "      <td>...</td>\n",
       "      <td>...</td>\n",
       "      <td>...</td>\n",
       "      <td>...</td>\n",
       "      <td>...</td>\n",
       "      <td>...</td>\n",
       "    </tr>\n",
       "    <tr>\n",
       "      <th>3107878</th>\n",
       "      <td>4</td>\n",
       "      <td>Thessaloniki, Macedonia and Thrace, Greece</td>\n",
       "      <td>sapere 2011</td>\n",
       "      <td>sapere</td>\n",
       "      <td>10.1007/978-3-642-31674-6_9</td>\n",
       "      <td>2011</td>\n",
       "    </tr>\n",
       "    <tr>\n",
       "      <th>3107879</th>\n",
       "      <td>4</td>\n",
       "      <td>Thessaloniki, Macedonia and Thrace, Greece</td>\n",
       "      <td>sapere 2011</td>\n",
       "      <td>sapere</td>\n",
       "      <td>10.1007/978-3-642-31674-6_20</td>\n",
       "      <td>2011</td>\n",
       "    </tr>\n",
       "    <tr>\n",
       "      <th>3107880</th>\n",
       "      <td>2</td>\n",
       "      <td>Thessaloniki, Macedonia and Thrace, Greece</td>\n",
       "      <td>sapere 2011</td>\n",
       "      <td>sapere</td>\n",
       "      <td>10.1007/978-3-642-31674-6_25</td>\n",
       "      <td>2011</td>\n",
       "    </tr>\n",
       "    <tr>\n",
       "      <th>3107881</th>\n",
       "      <td>0</td>\n",
       "      <td>Thessaloniki, Macedonia and Thrace, Greece</td>\n",
       "      <td>sapere 2011</td>\n",
       "      <td>sapere</td>\n",
       "      <td>10.1007/978-3-642-31674-6_12</td>\n",
       "      <td>2011</td>\n",
       "    </tr>\n",
       "    <tr>\n",
       "      <th>3107882</th>\n",
       "      <td>3</td>\n",
       "      <td>Thessaloniki, Macedonia and Thrace, Greece</td>\n",
       "      <td>sapere 2011</td>\n",
       "      <td>sapere</td>\n",
       "      <td>10.1007/978-3-642-31674-6_3</td>\n",
       "      <td>2011</td>\n",
       "    </tr>\n",
       "  </tbody>\n",
       "</table>\n",
       "<p>3107883 rows × 6 columns</p>\n",
       "</div>"
      ],
      "text/plain": [
       "         CitationCount                                 ConferenceLocation  \\\n",
       "0                   10                       Austin, Texas, United States   \n",
       "1                    5        Wrocław, Lower Silesian Voivodeship, Poland   \n",
       "2                   11                          Innsbruck, Tyrol, Austria   \n",
       "3                    1  Villefranche-sur-Saône, Auvergne-Rhône-Alpes, ...   \n",
       "4                    9        Zakopane, Lesser Poland Voivodeship, Poland   \n",
       "...                ...                                                ...   \n",
       "3107878              4         Thessaloniki, Macedonia and Thrace, Greece   \n",
       "3107879              4         Thessaloniki, Macedonia and Thrace, Greece   \n",
       "3107880              2         Thessaloniki, Macedonia and Thrace, Greece   \n",
       "3107881              0         Thessaloniki, Macedonia and Thrace, Greece   \n",
       "3107882              3         Thessaloniki, Macedonia and Thrace, Greece   \n",
       "\n",
       "        ConferenceNormalizedName ConferenceSeriesNormalizedName  \\\n",
       "0                      disc 2014                           disc   \n",
       "1                       esa 2014                            esa   \n",
       "2                     enter 2013                          enter   \n",
       "3                      dexa 2002                           dexa   \n",
       "4                    icaisc 2006                         icaisc   \n",
       "...                          ...                            ...   \n",
       "3107878              sapere 2011                         sapere   \n",
       "3107879              sapere 2011                         sapere   \n",
       "3107880              sapere 2011                         sapere   \n",
       "3107881              sapere 2011                         sapere   \n",
       "3107882              sapere 2011                         sapere   \n",
       "\n",
       "                                  Doi  Year  \n",
       "0        10.1007/978-3-662-45174-8_28  2014  \n",
       "1        10.1007/978-3-662-44777-2_60  2014  \n",
       "2        10.1007/978-3-319-03973-2_13  2013  \n",
       "3            10.1007/3-540-46146-9_77  2002  \n",
       "4                 10.1007/11785231_94  2006  \n",
       "...                               ...   ...  \n",
       "3107878   10.1007/978-3-642-31674-6_9  2011  \n",
       "3107879  10.1007/978-3-642-31674-6_20  2011  \n",
       "3107880  10.1007/978-3-642-31674-6_25  2011  \n",
       "3107881  10.1007/978-3-642-31674-6_12  2011  \n",
       "3107882   10.1007/978-3-642-31674-6_3  2011  \n",
       "\n",
       "[3107883 rows x 6 columns]"
      ]
     },
     "execution_count": 6,
     "metadata": {},
     "output_type": "execute_result"
    }
   ],
   "source": [
    "df_coci_dataset = pd.read_csv(path_file_import + 'out_COCI_citations_and_locations_analysis_ready.csv', low_memory=False, index_col=[0])\n",
    "df_coci_dataset"
   ]
  },
  {
   "cell_type": "markdown",
   "metadata": {},
   "source": [
    "## Obtaining the Size of the Wikipedia Page\n",
    "The conferences locations are going to be obtained from queries to the Wikipedia Website."
   ]
  },
  {
   "cell_type": "markdown",
   "metadata": {},
   "source": [
    "First we need to obtain the distinct ciry names:"
   ]
  },
  {
   "cell_type": "code",
   "execution_count": 7,
   "metadata": {},
   "outputs": [
    {
     "data": {
      "text/html": [
       "<div>\n",
       "<style scoped>\n",
       "    .dataframe tbody tr th:only-of-type {\n",
       "        vertical-align: middle;\n",
       "    }\n",
       "\n",
       "    .dataframe tbody tr th {\n",
       "        vertical-align: top;\n",
       "    }\n",
       "\n",
       "    .dataframe thead th {\n",
       "        text-align: right;\n",
       "    }\n",
       "</style>\n",
       "<table border=\"1\" class=\"dataframe\">\n",
       "  <thead>\n",
       "    <tr style=\"text-align: right;\">\n",
       "      <th></th>\n",
       "      <th>ConferenceLocation</th>\n",
       "      <th>City</th>\n",
       "    </tr>\n",
       "  </thead>\n",
       "  <tbody>\n",
       "    <tr>\n",
       "      <th>0</th>\n",
       "      <td>Austin, Texas, United States</td>\n",
       "      <td>Austin</td>\n",
       "    </tr>\n",
       "    <tr>\n",
       "      <th>1</th>\n",
       "      <td>Wrocław, Lower Silesian Voivodeship, Poland</td>\n",
       "      <td>Wrocław</td>\n",
       "    </tr>\n",
       "    <tr>\n",
       "      <th>2</th>\n",
       "      <td>Innsbruck, Tyrol, Austria</td>\n",
       "      <td>Innsbruck</td>\n",
       "    </tr>\n",
       "    <tr>\n",
       "      <th>3</th>\n",
       "      <td>Villefranche-sur-Saône, Auvergne-Rhône-Alpes, ...</td>\n",
       "      <td>Villefranche-sur-Saône</td>\n",
       "    </tr>\n",
       "    <tr>\n",
       "      <th>4</th>\n",
       "      <td>Zakopane, Lesser Poland Voivodeship, Poland</td>\n",
       "      <td>Zakopane</td>\n",
       "    </tr>\n",
       "    <tr>\n",
       "      <th>...</th>\n",
       "      <td>...</td>\n",
       "      <td>...</td>\n",
       "    </tr>\n",
       "    <tr>\n",
       "      <th>3103379</th>\n",
       "      <td>Veneto, Italy</td>\n",
       "      <td>Veneto</td>\n",
       "    </tr>\n",
       "    <tr>\n",
       "      <th>3103468</th>\n",
       "      <td>Bastia, Corsica, France</td>\n",
       "      <td>Bastia</td>\n",
       "    </tr>\n",
       "    <tr>\n",
       "      <th>3103514</th>\n",
       "      <td>Laramie, Wyoming, United States</td>\n",
       "      <td>Laramie</td>\n",
       "    </tr>\n",
       "    <tr>\n",
       "      <th>3103806</th>\n",
       "      <td>Longyearbyen, Norway</td>\n",
       "      <td>Longyearbyen</td>\n",
       "    </tr>\n",
       "    <tr>\n",
       "      <th>3106775</th>\n",
       "      <td>Shijiazhuang City, Hebei, China</td>\n",
       "      <td>Shijiazhuang_City</td>\n",
       "    </tr>\n",
       "  </tbody>\n",
       "</table>\n",
       "<p>2470 rows × 2 columns</p>\n",
       "</div>"
      ],
      "text/plain": [
       "                                        ConferenceLocation  \\\n",
       "0                             Austin, Texas, United States   \n",
       "1              Wrocław, Lower Silesian Voivodeship, Poland   \n",
       "2                                Innsbruck, Tyrol, Austria   \n",
       "3        Villefranche-sur-Saône, Auvergne-Rhône-Alpes, ...   \n",
       "4              Zakopane, Lesser Poland Voivodeship, Poland   \n",
       "...                                                    ...   \n",
       "3103379                                      Veneto, Italy   \n",
       "3103468                            Bastia, Corsica, France   \n",
       "3103514                    Laramie, Wyoming, United States   \n",
       "3103806                               Longyearbyen, Norway   \n",
       "3106775                    Shijiazhuang City, Hebei, China   \n",
       "\n",
       "                           City  \n",
       "0                        Austin  \n",
       "1                       Wrocław  \n",
       "2                     Innsbruck  \n",
       "3        Villefranche-sur-Saône  \n",
       "4                      Zakopane  \n",
       "...                         ...  \n",
       "3103379                  Veneto  \n",
       "3103468                  Bastia  \n",
       "3103514                 Laramie  \n",
       "3103806            Longyearbyen  \n",
       "3106775       Shijiazhuang_City  \n",
       "\n",
       "[2470 rows x 2 columns]"
      ]
     },
     "execution_count": 7,
     "metadata": {},
     "output_type": "execute_result"
    }
   ],
   "source": [
    "df_cities = df_coci_dataset['ConferenceLocation'].copy().to_frame()\n",
    "df_cities = df_cities.drop_duplicates()\n",
    "\n",
    "df_cities[\"City\"] = np.nan\n",
    "\n",
    "df_cities.City = df_cities.ConferenceLocation.str.split(',').str[0].str.replace(' ', '_')\n",
    "df_cities = df_cities.drop_duplicates()\n",
    "\n",
    "df_cities"
   ]
  },
  {
   "cell_type": "markdown",
   "metadata": {},
   "source": [
    "### Define of the Web Scraping Function\n",
    "The web function is going to be passed as parameter."
   ]
  },
  {
   "cell_type": "code",
   "execution_count": 8,
   "metadata": {},
   "outputs": [],
   "source": [
    "def swp_scraper(cities_dataframe, mt_downloader_operation_function, wikipedia_url = \"https://en.wikipedia.org/wiki/\"):\n",
    "    dict_city_swp = {}      \n",
    "    download_list = zip(list(cities_dataframe.ConferenceLocation.values), list(cities_dataframe.City.values))\n",
    "\n",
    "    executor = concurrent.futures.ProcessPoolExecutor(max_workers=int(MAX_WORKERS), mp_context=mp_ctx)\n",
    "    futures = [executor.submit(mt_downloader_operation_function, conf_location, wikipedia_url, SLEEP_DELAY) for conf_location in download_list]\n",
    "\n",
    "    for future in concurrent.futures.as_completed(futures):\n",
    "        try:\n",
    "            k, v = future.result()\n",
    "        except Exception as e:\n",
    "            print(f\"{futures[future]} throws {e}\")\n",
    "        else:\n",
    "            dict_city_swp[k] = v\n",
    "\n",
    "    # Converting the resulting dictionary to a dataframe\n",
    "    df_city_swp = pd.DataFrame(dict_city_swp.items(), columns=['Location', 'SWP'])\n",
    "\n",
    "    return df_city_swp"
   ]
  },
  {
   "cell_type": "markdown",
   "metadata": {},
   "source": [
    "#### Queries to the Wikipedia Website"
   ]
  },
  {
   "cell_type": "markdown",
   "metadata": {},
   "source": [
    "Parallel execution of the queries to the Wikipedia website.\n",
    "\n",
    "**Note**: this operation should take less than a 5 minutes, depending on your Internet speed."
   ]
  },
  {
   "cell_type": "code",
   "execution_count": 9,
   "metadata": {},
   "outputs": [],
   "source": [
    "df_city_swp = swp_scraper(df_cities, mt_get_city_swp_operation_v1, \"https://en.wikipedia.org/wiki/\")"
   ]
  },
  {
   "cell_type": "markdown",
   "metadata": {},
   "source": [
    "Unzip of the location tuple and drop of the NaN values:"
   ]
  },
  {
   "cell_type": "code",
   "execution_count": null,
   "metadata": {},
   "outputs": [],
   "source": [
    "# unzip of the location tuple\n",
    "df_city_swp[\"ConferenceLocation\"] = np.nan\n",
    "df_city_swp[\"City\"] = np.nan\n",
    "df_city_swp.ConferenceLocation = df_city_swp.Location.str[0]\n",
    "df_city_swp.City = df_city_swp.Location.str[1]\n",
    "\n",
    "# dataframe cleanup\n",
    "df_city_swp.drop(columns=\"Location\", inplace=True)\n",
    "df_city_swp = df_city_swp.reindex(sorted(df_city_swp.columns), axis=1)\n",
    "df_city_swp = df_city_swp.dropna()\n",
    "\n",
    "df_city_swp"
   ]
  },
  {
   "cell_type": "markdown",
   "metadata": {},
   "source": [
    "Fix of the column type"
   ]
  },
  {
   "cell_type": "code",
   "execution_count": null,
   "metadata": {},
   "outputs": [],
   "source": [
    "df_city_swp = df_city_swp.astype({\"SWP\": int})"
   ]
  },
  {
   "cell_type": "markdown",
   "metadata": {},
   "source": [
    "### Addressing the Duplicates\n",
    "\n",
    "There are cases of homonymy between cities, and it's not always easy to address them. \n",
    "\n",
    "In some cases, Wikipedia uses the following scheme \"/cityname,_country_name\", so we'll try to fix these cities in this way.\n",
    "\n",
    "**Note**: we're going to to this only for the cities with an SWP value under 25k, because that usually means it's a wikipedia disambiguation page."
   ]
  },
  {
   "cell_type": "code",
   "execution_count": null,
   "metadata": {},
   "outputs": [],
   "source": [
    "df_city_swp_duplicated_cities = df_city_swp[df_city_swp[\"City\"].isin(df_city_swp[\"City\"][df_city_swp[\"City\"].duplicated()])].sort_values(by=\"City\")\n",
    "df_city_swp_duplicated_cities = df_city_swp_duplicated_cities.loc[df_city_swp_duplicated_cities[\"SWP\"] < 25000]\n",
    "df_city_swp_duplicated_cities"
   ]
  },
  {
   "cell_type": "markdown",
   "metadata": {},
   "source": [
    "#### Queries to the Wikipedia Website"
   ]
  },
  {
   "cell_type": "markdown",
   "metadata": {},
   "source": [
    "Parallel execution of the queries to the Wikipedia website.\n",
    "\n",
    "**Note**: this operation should take less than a 5 minutes, depending on your Internet speed."
   ]
  },
  {
   "cell_type": "code",
   "execution_count": null,
   "metadata": {},
   "outputs": [],
   "source": [
    "df_city_swp_fixed = swp_scraper(df_city_swp_duplicated_cities, mt_get_city_swp_operation_v2, \"https://en.wikipedia.org/wiki/\")"
   ]
  },
  {
   "cell_type": "markdown",
   "metadata": {},
   "source": [
    "Unzip of the location tuple and drop of the NaN values:"
   ]
  },
  {
   "cell_type": "code",
   "execution_count": null,
   "metadata": {},
   "outputs": [],
   "source": [
    "# unzip of the location tuple\n",
    "df_city_swp_fixed[\"ConferenceLocation\"] = np.nan\n",
    "df_city_swp_fixed[\"City\"] = np.nan\n",
    "df_city_swp_fixed.ConferenceLocation = df_city_swp_fixed.Location.str[0]\n",
    "df_city_swp_fixed.City = df_city_swp_fixed.Location.str[1]\n",
    "\n",
    "# dataframe cleanup\n",
    "df_city_swp_fixed.drop(columns=\"Location\", inplace=True)\n",
    "df_city_swp_fixed = df_city_swp_fixed.reindex(sorted(df_city_swp_fixed.columns), axis=1)\n",
    "df_city_swp_fixed = df_city_swp_fixed.dropna()\n",
    "\n",
    "df_city_swp_fixed"
   ]
  },
  {
   "cell_type": "code",
   "execution_count": null,
   "metadata": {},
   "outputs": [],
   "source": [
    "df_city_swp_fixed.head(50)"
   ]
  },
  {
   "cell_type": "markdown",
   "metadata": {},
   "source": [
    "#### Merge with the First SWP Dataframe"
   ]
  },
  {
   "cell_type": "code",
   "execution_count": null,
   "metadata": {},
   "outputs": [],
   "source": [
    "df_city_swp = df_city_swp.update(df_city_swp_fixed)\n",
    "df_city_swp"
   ]
  },
  {
   "cell_type": "markdown",
   "metadata": {},
   "source": [
    "## Write of the Final CSV on Disk"
   ]
  },
  {
   "cell_type": "markdown",
   "metadata": {},
   "source": [
    "Saving the resulting dataframe on disk in CSV format."
   ]
  },
  {
   "cell_type": "code",
   "execution_count": null,
   "metadata": {},
   "outputs": [],
   "source": [
    "# Write of the resulting CSV on Disk\n",
    "df_city_swp.to_csv(path_file_export + 'out_city_swp.csv')\n",
    "print(f'Successfully Exported the Processed CSV to {path_file_export}out_city_swp.csv')"
   ]
  },
  {
   "cell_type": "markdown",
   "metadata": {},
   "source": [
    "Check of the Exported CSV to be sure that everything went fine."
   ]
  },
  {
   "cell_type": "code",
   "execution_count": null,
   "metadata": {},
   "outputs": [],
   "source": [
    "# Check of the Exported CSV\n",
    "df_swp_exported_csv = pd.read_csv(path_file_export + 'out_city_swp.csv', low_memory=False, index_col=[0])\n",
    "df_swp_exported_csv"
   ]
  },
  {
   "cell_type": "code",
   "execution_count": null,
   "metadata": {},
   "outputs": [],
   "source": []
  }
 ],
 "metadata": {
  "interpreter": {
   "hash": "b0fa6594d8f4cbf19f97940f81e996739fb7646882a419484c72d19e05852a7e"
  },
  "kernelspec": {
   "display_name": "Python 3.9.12 64-bit",
   "name": "python3"
  },
  "language_info": {
   "codemirror_mode": {
    "name": "ipython",
    "version": 3
   },
   "file_extension": ".py",
   "mimetype": "text/x-python",
   "name": "python",
   "nbconvert_exporter": "python",
   "pygments_lexer": "ipython3",
   "version": "3.9.13"
  },
  "orig_nbformat": 4
 },
 "nbformat": 4,
 "nbformat_minor": 2
}
